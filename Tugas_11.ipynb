{
 "cells": [
  {
   "cell_type": "code",
   "execution_count": null,
   "metadata": {},
   "outputs": [],
   "source": [
    "# a ----- b\n",
    "# /       \\\n",
    "# /       \\\n",
    "# c ----- d ----- e"
   ]
  },
  {
   "cell_type": "code",
   "execution_count": 1,
   "metadata": {},
   "outputs": [
    {
     "name": "stdout",
     "output_type": "stream",
     "text": [
      "{'a': ['b', 'c'], 'b': ['a', 'd'], 'c': ['a', 'd'], 'd': ['e'], 'e': ['d']}\n"
     ]
    }
   ],
   "source": [
    "graph = {\"a\": [\"b\", \"c\"],\n",
    "         \"b\": [\"a\", \"d\"],\n",
    "         \"c\": [\"a\", \"d\"],\n",
    "         \"d\": [\"e\"],\n",
    "         \"e\": [\"d\"]\n",
    "         }\n",
    "\n",
    "# print the graph\n",
    "print(graph)"
   ]
  },
  {
   "cell_type": "code",
   "execution_count": 3,
   "metadata": {},
   "outputs": [
    {
     "name": "stdout",
     "output_type": "stream",
     "text": [
      "{'S': ['X'], 'T': ['U', 'W'], 'U': ['T', 'V'], 'V': ['U', 'X'], 'W': ['T', 'X', 'Z'], 'X': ['S', 'V', 'W'], 'Z': ['W']}\n"
     ]
    }
   ],
   "source": [
    "# T------U------V\n",
    "# |             |\n",
    "# W-------------X\n",
    "# |             |\n",
    "# Z             S\n",
    "\n",
    "graph = {\"S\": [\"X\"],\n",
    "         \"T\": [\"U\", \"W\"],\n",
    "         \"U\": [\"T\", \"V\"],\n",
    "         \"V\": [\"U\",\"X\"],\n",
    "         \"W\": [\"T\",\"X\",\"Z\"],\n",
    "         \"X\": [\"S\", \"V\", \"W\"],\n",
    "         \"Z\": [\"W\"],\n",
    "         }\n",
    "\n",
    "print(graph)"
   ]
  },
  {
   "cell_type": "code",
   "execution_count": 4,
   "metadata": {},
   "outputs": [
    {
     "name": "stdout",
     "output_type": "stream",
     "text": [
      "{'l': ['p', 'r'], 'm': ['n', 'o'], 'n': ['m', 'p'], 'o': ['m', 'p', 'r'], 'p': ['l', 'n', 'o'], 'r': ['l', 'o']}\n"
     ]
    }
   ],
   "source": [
    "# r------o------m\n",
    "# |      |      |\n",
    "# l------p------n\n",
    "\n",
    "graph = {\"l\": [\"p\", \"r\"],\n",
    "         \"m\": [\"n\",\"o\"],\n",
    "         \"n\": [\"m\",\"p\"],\n",
    "         \"o\": [\"m\",\"p\", \"r\"],\n",
    "         \"p\": [\"l\",\"n\", \"o\"],\n",
    "         \"r\": [\"l\", \"o\"],\n",
    "         }\n",
    "\n",
    "print(graph)"
   ]
  },
  {
   "cell_type": "code",
   "execution_count": 5,
   "metadata": {},
   "outputs": [
    {
     "name": "stdout",
     "output_type": "stream",
     "text": [
      "['a', 'b', 'c', 'd', 'e']\n"
     ]
    }
   ],
   "source": [
    "# Menampilkan simpul pada graph\n",
    "class Graph:\n",
    "    def __init__(self, gdict=None):\n",
    "        if gdict is None:\n",
    "            gdict = {}\n",
    "        self.gdict = gdict\n",
    "    \n",
    "    # Get the keys of the dictionary\n",
    "    def getVertices(self):\n",
    "        return list(self.gdict.keys())\n",
    "# Create dictionary with graph elements\n",
    "graph_elements = {\n",
    "    \"a\": [\"b\", \"c\"],\n",
    "    \"b\": [\"a\", \"d\"],\n",
    "    \"c\": [\"a\", \"d\"],\n",
    "    \"d\": [\"e\"],\n",
    "    \"e\": [\"d\"]\n",
    "}\n",
    "\n",
    "# Create an instance of the Graph class and pass the graph_elements\n",
    "g = Graph(graph_elements)\n",
    "\n",
    "# Print the vertices by calling the getVertices method with parentheses\n",
    "print(g.getVertices()) "
   ]
  },
  {
   "cell_type": "code",
   "execution_count": 9,
   "metadata": {},
   "outputs": [
    {
     "name": "stdout",
     "output_type": "stream",
     "text": [
      "['S', 'T', 'U', 'V', 'W', 'X', 'Z']\n"
     ]
    }
   ],
   "source": [
    "graph = {\"S\": [\"X\"],\n",
    "         \"T\": [\"U\", \"W\"],\n",
    "         \"U\": [\"T\", \"V\"],\n",
    "         \"V\": [\"U\",\"X\"],\n",
    "         \"W\": [\"T\",\"X\",\"Z\"],\n",
    "         \"X\": [\"S\", \"V\", \"W\"],\n",
    "         \"Z\": [\"W\"],\n",
    "         }\n",
    "\n",
    "g = Graph(graph)\n",
    "print(g.getVertices())"
   ]
  },
  {
   "cell_type": "code",
   "execution_count": 8,
   "metadata": {},
   "outputs": [
    {
     "name": "stdout",
     "output_type": "stream",
     "text": [
      "['l', 'm', 'n', 'o', 'p', 'r']\n"
     ]
    }
   ],
   "source": [
    "graph = {\"l\": [\"p\", \"r\"],\n",
    "         \"m\": [\"n\",\"o\"],\n",
    "         \"n\": [\"m\",\"p\"],\n",
    "         \"o\": [\"m\",\"p\", \"r\"],\n",
    "         \"p\": [\"l\",\"n\", \"o\"],\n",
    "         \"r\": [\"l\", \"o\"],\n",
    "         }\n",
    "\n",
    "g = Graph(graph)\n",
    "print(g.getVertices())"
   ]
  },
  {
   "cell_type": "code",
   "execution_count": 17,
   "metadata": {},
   "outputs": [
    {
     "name": "stdout",
     "output_type": "stream",
     "text": [
      "['a', 'b', 'c', 'd', 'e', 'f']\n"
     ]
    }
   ],
   "source": [
    "class Graph:\n",
    "    def __init__(self, gdict=None):\n",
    "        if gdict is None:\n",
    "            gdict = {}\n",
    "        self.gdict = gdict\n",
    "    def getVertices(self):\n",
    "        return list(self.gdict.keys())\n",
    "# Add the vertex as a key\n",
    "    def addVertex(self, vrtx):\n",
    "        if vrtx not in self.gdict:\n",
    "            self.gdict[vrtx] = []\n",
    "# Create dictionary with graph elements\n",
    "graph_elements = {\n",
    "    \"a\": [\"b\", \"c\"],\n",
    "    \"b\": [\"a\", \"d\"],\n",
    "    \"c\": [\"a\", \"d\"],\n",
    "    \"d\": [\"e\"],\n",
    "    \"e\": [\"d\"]\n",
    "}\n",
    "\n",
    "g = graph(graph_elements)\n",
    "g.addVertex(\"f\")\n",
    "print(g.getVertices())"
   ]
  },
  {
   "cell_type": "code",
   "execution_count": 19,
   "metadata": {},
   "outputs": [
    {
     "name": "stdout",
     "output_type": "stream",
     "text": [
      "['l', 'm', 'n', 'o', 'p', 'r', 'K', 'J']\n"
     ]
    }
   ],
   "source": [
    "graph_ROM = {\n",
    "    \"l\": [\"p\", \"r\"],\n",
    "    \"m\": [\"n\",\"o\"],\n",
    "    \"n\": [\"m\",\"p\"],\n",
    "    \"o\": [\"m\",\"p\", \"r\"],\n",
    "    \"p\": [\"l\",\"n\", \"o\"],\n",
    "    \"r\": [\"l\", \"o\"],\n",
    "}\n",
    "\n",
    "g = Graph(graph_ROM)\n",
    "g.addVertex(\"K\")\n",
    "g.addVertex(\"J\")\n",
    "print(g.getVertices())"
   ]
  },
  {
   "cell_type": "code",
   "execution_count": 20,
   "metadata": {},
   "outputs": [
    {
     "name": "stdout",
     "output_type": "stream",
     "text": [
      "['S', 'T', 'U', 'V', 'W', 'X', 'Z', 'R']\n"
     ]
    }
   ],
   "source": [
    "graph_TUV = {\n",
    "    \"S\": [\"X\"],\n",
    "    \"T\": [\"U\", \"W\"],\n",
    "    \"U\": [\"T\", \"V\"],\n",
    "    \"V\": [\"U\",\"X\"],\n",
    "    \"W\": [\"T\",\"X\",\"Z\"],\n",
    "    \"X\": [\"S\", \"V\", \"W\"],\n",
    "    \"Z\": [\"W\"]\n",
    "}\n",
    "\n",
    "g = Graph(graph_TUV)\n",
    "g.addVertex(\"R\")\n",
    "print(g.getVertices())"
   ]
  },
  {
   "cell_type": "code",
   "execution_count": 29,
   "metadata": {},
   "outputs": [
    {
     "name": "stdout",
     "output_type": "stream",
     "text": [
      "[{'a', 'b'}, {'a', 'c'}, {'d', 'b'}, {'b', 'f'}, {'d', 'c'}, {'d', 'e'}, {'e', 'f'}]\n"
     ]
    }
   ],
   "source": [
    "# Menambaha Edge/Sudut\n",
    "class Graph:\n",
    "    def __init__(self, gdict=None):\n",
    "        if gdict is None:\n",
    "            gdict = {}\n",
    "        self.gdict = gdict\n",
    "    def edges(self):\n",
    "        return self.findedges()\n",
    "    def addEdge(self, edge):\n",
    "        edge = set(edge)\n",
    "        (vrtx1, vrtx2) = tuple(edge)\n",
    "        if vrtx1 in self.gdict:\n",
    "            self.gdict[vrtx1].append(vrtx2)\n",
    "        else:\n",
    "            self.gdict[vrtx1] = [vrtx2]\n",
    "    def findedges(self):\n",
    "        edgename = []\n",
    "        for vrtx in self.gdict:\n",
    "            for nxtvrtx in self.gdict[vrtx]:\n",
    "                if {nxtvrtx, vrtx} not in edgename:\n",
    "                    edgename.append({vrtx, nxtvrtx})\n",
    "        return edgename\n",
    "\n",
    "# Create dictionary with graph elements\n",
    "graph_elements = {\n",
    "    \"a\": [\"b\", \"c\"],\n",
    "    \"b\": [\"a\", \"d\"],\n",
    "    \"c\": [\"a\", \"d\"],\n",
    "    \"d\": [\"e\"],\n",
    "    \"e\": [\"d\"]\n",
    "}\n",
    "\n",
    "g = Graph(graph_elements)\n",
    "g.addEdge({'f', 'b'})\n",
    "g.addEdge({'f', 'e'})\n",
    "print(g.edges())"
   ]
  },
  {
   "cell_type": "code",
   "execution_count": 25,
   "metadata": {},
   "outputs": [
    {
     "name": "stdout",
     "output_type": "stream",
     "text": [
      "[{'a', 'b'}, {'a', 'c'}, {'d', 'b'}, {'d', 'c'}, {'d', 'e'}, {'e', 'a'}]\n"
     ]
    }
   ],
   "source": [
    "# Create dictionary with graph elements\n",
    "graph_elements = {\n",
    "    \"a\": [\"b\", \"c\"],\n",
    "    \"b\": [\"a\", \"d\"],\n",
    "    \"c\": [\"a\", \"d\"],\n",
    "    \"d\": [\"e\"],\n",
    "    \"e\": [\"d\"]\n",
    "}\n",
    "\n",
    "g = Graph(graph_elements)\n",
    "g.addEdge({'a', 'e'})\n",
    "g.addEdge({'a', 'c'})\n",
    "print(g.edges())"
   ]
  },
  {
   "cell_type": "code",
   "execution_count": 27,
   "metadata": {},
   "outputs": [
    {
     "name": "stdout",
     "output_type": "stream",
     "text": [
      "[{'p', 'l'}, {'r', 'l'}, {'n', 'm'}, {'m', 'o'}, {'p', 'n'}, {'p', 'o'}, {'r', 'o'}, {'r', 'K'}, {'m', 'J'}]\n"
     ]
    }
   ],
   "source": [
    "graph_ROM = {\n",
    "    \"l\": [\"p\", \"r\"],\n",
    "    \"m\": [\"n\",\"o\"],\n",
    "    \"n\": [\"m\",\"p\"],\n",
    "    \"o\": [\"m\",\"p\", \"r\"],\n",
    "    \"p\": [\"l\",\"n\", \"o\"],\n",
    "    \"r\": [\"l\", \"o\"],\n",
    "}\n",
    "\n",
    "g = Graph(graph_ROM)\n",
    "g.addEdge({'r',  'K'})\n",
    "g.addEdge({'m', 'J'})\n",
    "print(g.edges())"
   ]
  },
  {
   "cell_type": "code",
   "execution_count": 28,
   "metadata": {},
   "outputs": [
    {
     "name": "stdout",
     "output_type": "stream",
     "text": [
      "[{'X', 'S'}, {'U', 'T'}, {'W', 'T'}, {'V', 'U'}, {'V', 'X'}, {'V', 'S'}, {'W', 'X'}, {'W', 'Z'}, {'Z', 'T'}]\n"
     ]
    }
   ],
   "source": [
    "graph_TUV = {\n",
    "    \"S\": [\"X\"],\n",
    "    \"T\": [\"U\", \"W\"],\n",
    "    \"U\": [\"T\", \"V\"],\n",
    "    \"V\": [\"U\",\"X\"],\n",
    "    \"W\": [\"T\",\"X\",\"Z\"],\n",
    "    \"X\": [\"S\", \"V\", \"W\"],\n",
    "    \"Z\": [\"W\"]\n",
    "}\n",
    "\n",
    "g = Graph(graph_TUV)\n",
    "g.addEdge({'T',  'Z'})\n",
    "g.addEdge({'V', 'S'})\n",
    "print(g.edges())"
   ]
  },
  {
   "cell_type": "code",
   "execution_count": null,
   "metadata": {},
   "outputs": [],
   "source": []
  }
 ],
 "metadata": {
  "kernelspec": {
   "display_name": "Python 3",
   "language": "python",
   "name": "python3"
  },
  "language_info": {
   "codemirror_mode": {
    "name": "ipython",
    "version": 3
   },
   "file_extension": ".py",
   "mimetype": "text/x-python",
   "name": "python",
   "nbconvert_exporter": "python",
   "pygments_lexer": "ipython3",
   "version": "3.11.3"
  }
 },
 "nbformat": 4,
 "nbformat_minor": 2
}
