{
 "cells": [
  {
   "cell_type": "markdown",
   "metadata": {},
   "source": [
    "# <center>**Tugas Latihan 6 DAA**</center>\n",
    "<hr>\n",
    "\n",
    "**Nama**   : John Bryan Khornelius<br>\n",
    "**NIM**    : 2022071034<br>\n",
    "**Kelas**  : Desain Analisis Algoritma - INF A<br>"
   ]
  },
  {
   "cell_type": "code",
   "execution_count": null,
   "metadata": {},
   "outputs": [],
   "source": [
    "# Slide 9 (Algoritma Fibonacci)\n",
    "# Fibonacci dengan while\n",
    "# first two terms\n",
    "nterms = int(input(\"How many terms? \"))\n",
    "n1, n2 = 0, 1\n",
    "count = 0\n",
    "\n",
    "# check if number of terms is valid\n",
    "if nterms <= 0:\n",
    "    print(\"Please enter a positive integer\")\n",
    "elif nterms == 1:\n",
    "    print(\"Fibonacci sequence upto\", nterms, \":\")\n",
    "    print(n1)\n",
    "else:\n",
    "    print(\"Fibonacci sequence:\")\n",
    "    while count < nterms:\n",
    "        print(n1)\n",
    "        nth = n1 + n2\n",
    "        # update values\n",
    "        n1 = n2\n",
    "        n2 = nth\n",
    "        count += 1"
   ]
  },
  {
   "cell_type": "code",
   "execution_count": null,
   "metadata": {},
   "outputs": [],
   "source": [
    "# Slide 10\n",
    "# Fibonacci dengan rekursi\n",
    "\n",
    "def recur_fibo(n):\n",
    "    if n <= 1:\n",
    "        return n\n",
    "    else:\n",
    "        return(recur_fibo(n-1) +  recur_fibo(n-2))\n",
    "\n",
    "nterms = 20\n",
    "# cek apakah nilai nterms valid\n",
    "if nterms <= 0:\n",
    "    print(\"Please enter a positive integer\")\n",
    "else:\n",
    "    print(\"Fibonacci sequence:\")\n",
    "    for i in range(nterms):\n",
    "        print(recur_fibo(i))"
   ]
  },
  {
   "cell_type": "code",
   "execution_count": null,
   "metadata": {},
   "outputs": [],
   "source": [
    "# Slide 11 (LATIHAN)\n",
    "# bagaimana hasil fibonacci: 30 angka, rekursi, bisa input\n",
    "\n",
    "def fibo_recur(n):\n",
    "    if n <= 1:\n",
    "        return n\n",
    "    else:\n",
    "        return(fibo_recur(n-1) + fibo_recur(n - 2))\n",
    "\n",
    "# input\n",
    "nterms = int(input(\"How many terms? \"))\n",
    "\n",
    "# check apakah terms sudah valid atau belum\n",
    "if nterms <= 0:\n",
    "    print(\"Please input a positive integer!\")\n",
    "else:\n",
    "    for i in range(nterms):\n",
    "        print(fibo_recur(i))"
   ]
  },
  {
   "cell_type": "code",
   "execution_count": null,
   "metadata": {},
   "outputs": [],
   "source": [
    "# Slide 23 (greedy algorithm)\n",
    "def greedy_algorithm(cities, start=None):\n",
    "    C = start or first(cities)\n",
    "    tour = [C]\n",
    "    unvisited = set(cities - {C})\n",
    "    while unvisited:\n",
    "        C = nearest_neighbor(C, unvisited)\n",
    "        tour.append(C)\n",
    "        unvisited.remove(C)\n",
    "    return tour\n",
    "\n",
    "def first(collection):\n",
    "    return next(iter(collection))\n",
    "\n",
    "def nearest_neighbor(A, cities):\n",
    "    return min(cities, key=lambda C:distance_points(C, A))\n",
    "\n",
    "def distance_points(p1, p2):\n",
    "    return abs(p1 - p2)\n",
    "\n",
    "# cities\n",
    "ott_sud = 484 # ottawa - sudbury\n",
    "sud_mon = 680 # sudbury - montreal\n",
    "mon_kin = 287 # montreal - kingston\n",
    "kin_tor = 263 # kingston - toronto\n",
    "tor_ott = 450 # toronto - ottawa\n",
    "\n",
    "cities = {ott_sud, sud_mon, mon_kin, kin_tor, tor_ott}\n",
    "print(greedy_algorithm(cities, start=ott_sud))"
   ]
  },
  {
   "cell_type": "code",
   "execution_count": null,
   "metadata": {},
   "outputs": [],
   "source": [
    "# Slide 24 (TSP)\n",
    "import matplotlib\n",
    "import matplotlib.pyplot as plt\n",
    "import random\n",
    "import time\n",
    "import itertools"
   ]
  },
  {
   "cell_type": "code",
   "execution_count": null,
   "metadata": {},
   "outputs": [],
   "source": [
    "# Slide 25 (TSP)\n",
    "# Try All Tours (exact_TSP)\n",
    "def exact_TSP(cities):\n",
    "    \"Generate all possible tours of the cities and choose the shortest one.\"\n",
    "    return shortest(alltours(cities))\n",
    "\n",
    "def shortest(tours):\n",
    "    \"Return the tour with the minimum total distance.\"\n",
    "    return min(tours, key=total_distance)"
   ]
  },
  {
   "cell_type": "code",
   "execution_count": null,
   "metadata": {},
   "outputs": [],
   "source": [
    "# Slide 27 (TSP)\n",
    "# Representing Tours\n",
    "alltours = itertools.permutations # The permutation function is already defined in the itertools module\n",
    "\n",
    "cities = {1, 2, 3}\n",
    "\n",
    "list(alltours(cities))"
   ]
  },
  {
   "cell_type": "code",
   "execution_count": null,
   "metadata": {},
   "outputs": [],
   "source": [
    "# Slide 28 (TSP)\n",
    "# Representing Cities and Distance\n",
    "def total_distance(tour):\n",
    "    \"The total distance between each pair of consecutive cities in the tour.\"\n",
    "    return sum(distance(tour[i], tour[i-1])\n",
    "               for i in range(len(tour)))"
   ]
  },
  {
   "cell_type": "code",
   "execution_count": null,
   "metadata": {},
   "outputs": [],
   "source": [
    "# Slide 29 (TSP)\n",
    "City = complex # Constructor for new cities, e.g. City(300, 400)\n",
    "\n",
    "def distance(A, B):\n",
    "    \"The distance between two points.\"\n",
    "    return abs(A - B)"
   ]
  },
  {
   "cell_type": "code",
   "execution_count": null,
   "metadata": {},
   "outputs": [],
   "source": [
    "# Slide 30\n",
    "A = City(300, 0)\n",
    "B = City(0, 400)\n",
    "distance(A, B)"
   ]
  },
  {
   "cell_type": "code",
   "execution_count": null,
   "metadata": {},
   "outputs": [],
   "source": [
    "# Slide 31 (Making a set of random cities)\n",
    "def Cities(n):\n",
    "    \"Make a set of n cities, each with random coordinates.\"\n",
    "    return set(City(random.randrange(10, 890), random.randrange(10, 590))\n",
    "               for c in range(n))\n",
    "\n",
    "# Let's make some standard sets of cities of various sizes.\n",
    "# We'll set the random seed so that these sets are the same every time we run this notebook.\n",
    "random.seed('seed')\n",
    "cities8, cities10, cities100, cities1000 = Cities(8), Cities(10), Cities(100), Cities(1000)\n",
    "\n",
    "cities8"
   ]
  },
  {
   "cell_type": "code",
   "execution_count": null,
   "metadata": {},
   "outputs": [],
   "source": [
    "# Slide 32\n",
    "tour = exact_TSP(cities8)\n",
    "\n",
    "print(tour)\n",
    "print(total_distance(tour))"
   ]
  },
  {
   "cell_type": "code",
   "execution_count": null,
   "metadata": {},
   "outputs": [],
   "source": [
    "# Slide 33 (Try All Non-Redundant Tours)\n",
    "def alltours(cities):\n",
    "    \"Return a list of tours, each a permutation of cities, but each one starting with the same city.\"\n",
    "    start = first(cities)\n",
    "    return [[start] + list(tour)\n",
    "            for tour in itertools.permutations(cities - {start})]\n",
    "\n",
    "def first(collection):\n",
    "    \"Start iterating over collection, and return the first element.\"\n",
    "    for x in collection:\n",
    "        return x"
   ]
  },
  {
   "cell_type": "code",
   "execution_count": null,
   "metadata": {},
   "outputs": [],
   "source": [
    "# Slide 34\n",
    "alltours({1, 2, 3})"
   ]
  },
  {
   "cell_type": "code",
   "execution_count": null,
   "metadata": {},
   "outputs": [],
   "source": [
    "# Slide 34\n",
    "alltours({1, 2, 3, 4})"
   ]
  },
  {
   "cell_type": "code",
   "execution_count": null,
   "metadata": {},
   "outputs": [],
   "source": [
    "# Slide 35\n",
    "tour = exact_TSP(cities8)\n",
    "\n",
    "print(tour)\n",
    "print(total_distance(tour))\n",
    "\n",
    "# before 0.2 s\n",
    "# after 0.1 s "
   ]
  },
  {
   "cell_type": "code",
   "execution_count": null,
   "metadata": {},
   "outputs": [],
   "source": [
    "# Slide 37 (Plotting)\n",
    "# Plotting\n",
    "import time\n",
    "def plot_tour(algorithm, cities):\n",
    "    \"Apply a TSP Algorithm to cities, and plot the resulting tour.\"\n",
    "    # Find the solution and time how long it takes\n",
    "    t0 = time.time()\n",
    "    tour = algorithm(cities)\n",
    "    t1 = time.time()\n",
    "    # Plot the tour as blue lines between blue circles, and the starting city as a red square\n",
    "    plotline(list(tour) + [tour[0]])\n",
    "    plotline([tour[0]], 'rs')\n",
    "    plt.show()\n",
    "    print(\"{} city tour; total distance = {:.1f}; time = {:.3f} secs for {}\".format(\n",
    "        len(tour), total_distance(tour), t1 - t0, algorithm.__name__\n",
    "    ))\n",
    "\n",
    "def plotline(points, style='bo-'):\n",
    "    \"Plot a list of points (complex numbers) in the 2-D plane.\"\n",
    "    X, Y = XY(points)\n",
    "    plt.plot(X, Y, style)\n",
    "\n",
    "def XY(points):\n",
    "    \"Given a list of points, return two lists: X coordinates, and Y coordinates.\"\n",
    "    return [p.real for p in points], [p.imag for p in points]\n",
    "\n",
    "plot_tour(exact_TSP, cities8)"
   ]
  },
  {
   "cell_type": "code",
   "execution_count": null,
   "metadata": {},
   "outputs": [],
   "source": [
    "# Slide 38\n",
    "plot_tour(exact_TSP, cities10)"
   ]
  },
  {
   "cell_type": "code",
   "execution_count": null,
   "metadata": {},
   "outputs": [],
   "source": [
    "# Slide 39\n",
    "# Greedy nearest neighbor (greedy_TSP)\n",
    "def greedy_TSP(cities):\n",
    "    \"At each step, visit the nearest neighbor that is still unvisited.\"\n",
    "    start = first(cities)\n",
    "    tour = [start]\n",
    "    unvisited = cities - {start}\n",
    "    while unvisited:\n",
    "        C = nearest_neighbor(tour[-1], unvisited)\n",
    "        tour.append(C)\n",
    "        unvisited.remove(C)\n",
    "    return tour\n",
    "\n",
    "def nearest_neighbor(A, cities):\n",
    "    \"Find the city in cities that is nearest to city A.\"\n",
    "    return min(cities, key=lambda x: distance(x, A))"
   ]
  },
  {
   "cell_type": "code",
   "execution_count": null,
   "metadata": {},
   "outputs": [],
   "source": [
    "# Slide 40\n",
    "cities = Cities(9)\n",
    "plot_tour(exact_TSP, cities)\n",
    "plot_tour(greedy_TSP, cities)"
   ]
  },
  {
   "cell_type": "code",
   "execution_count": null,
   "metadata": {},
   "outputs": [],
   "source": [
    "# Slide 41\n",
    "plot_tour(greedy_TSP, cities100)\n",
    "plot_tour(greedy_TSP, cities1000)"
   ]
  },
  {
   "cell_type": "code",
   "execution_count": null,
   "metadata": {},
   "outputs": [],
   "source": [
    "# Slide 45\n",
    "# Algorithm 3: Greedy Nearest Neighbor from All Starting Points (all_greedy_TSP)\n",
    "def all_greedy_TSP(cities):\n",
    "    \"Try the greedy algorithm from each of the starting cities; return the shortest tour.\"\n",
    "    return shortest(greedy_TSP(cities, start=c) for c in cities)\n",
    "\n",
    "# We will modify greedy_TSP to take an optional start city; otherwise it is unchanged\n",
    "\n",
    "def greedy_TSP(cities, start=None):\n",
    "    \"At each step, visit the nearest neighbor that is still unvisited.\"\n",
    "    if start is None:\n",
    "        start = first(cities)\n",
    "    tour = [start]\n",
    "    unvisited = cities - {start}\n",
    "    while unvisited:\n",
    "        C = nearest_neighbor(tour[-1], unvisited)\n",
    "        tour.append(C)\n",
    "        unvisited.remove(C)\n",
    "    return tour"
   ]
  },
  {
   "cell_type": "code",
   "execution_count": null,
   "metadata": {},
   "outputs": [],
   "source": [
    "# Slide 44\n",
    "# Compare greedy TSP to all_greedy_TSP\n",
    "plot_tour(greedy_TSP, cities100)\n",
    "plot_tour(all_greedy_TSP, cities100)"
   ]
  },
  {
   "cell_type": "code",
   "execution_count": null,
   "metadata": {},
   "outputs": [],
   "source": [
    "# Slide 47\n",
    "# Algorithm 4: Greedy Nearest Neighbor with Exact End (greedy_exact_end_TSP)\n",
    "def greedy_exact_end_TSP(cities, start=None, end_size=8):\n",
    "    \"\"\"At each step, visit the nearest neighbor that is still unvisited until\n",
    "    there are k_end cities left; then choose the best of all possible endings.\"\"\"\n",
    "    if start is None: start = first(cities)\n",
    "    tour = [start]\n",
    "    unvisited = cities - {start}\n",
    "    # Use greedy algorithm for all but the last end_size cities\n",
    "    while len(unvisited) > end_size:\n",
    "        C = nearest_neighbor(tour[-1], unvisited)\n",
    "        tour.append(C)\n",
    "        unvisited.remove(C)\n",
    "    # Consider all permutations of possible ends to the tour, and choose the best one.\n",
    "    # (But to make things faster, omit the middle of the tour.)\n",
    "    ends = map(list, itertools.permutations(unvisited))\n",
    "    best = shortest([tour[0], tour[-1]] + end for end in ends)\n",
    "    return tour + best[2:]"
   ]
  },
  {
   "cell_type": "code",
   "execution_count": null,
   "metadata": {},
   "outputs": [],
   "source": [
    "plot_tour(greedy_exact_end_TSP, cities100)\n",
    "plot_tour(greedy_exact_end_TSP, cities1000)"
   ]
  },
  {
   "cell_type": "code",
   "execution_count": null,
   "metadata": {},
   "outputs": [],
   "source": [
    "# Slide 49\n",
    "# Algorithm 5: Greedy Nearest Neighbor with Both Ends Search (greedy_bi_TSP)\n",
    "def greedy_bi_TSP(cities, start_size=12, end_size=6):\n",
    "    \"At each step, visit the nearest neighbor that is still unvisited.\"\n",
    "    starts = random.sample(cities, min(len(cities), start_size))\n",
    "    return shortest(greedy_exact_end_TSP(cities, start, end_size)\n",
    "                    for start in starts)"
   ]
  },
  {
   "cell_type": "code",
   "execution_count": null,
   "metadata": {},
   "outputs": [],
   "source": [
    "random.seed('bi')\n",
    "plot_tour(greedy_bi_TSP, cities100)\n",
    "plot_tour(greedy_bi_TSP, cities1000)"
   ]
  },
  {
   "cell_type": "code",
   "execution_count": null,
   "metadata": {},
   "outputs": [],
   "source": [
    "# Slide 51\n",
    "# Benchmarking Algorithms\n",
    "def compare_algorithms(algorithms, maps):\n",
    "    \"Apply each algorithm to each map and plot results.\"\n",
    "    for algorithm in algorithms:\n",
    "        t0 = time.time()\n",
    "        results = [total_distance(algorithm(m)) for m in maps]\n",
    "        t1 = time.time()\n",
    "        avg = sum(results) / len(results)\n",
    "        label = '{:.0f}; {:.1f}s {}'.format(avg, t1-t0, algorithm.__name__)\n",
    "        plt.plot(sorted(results), label=label)\n",
    "    plt.legend(loc=2)\n",
    "    plt.show()\n",
    "    print('{} x {}-city maps'.format(len(maps), len(maps[0])))\n",
    "\n",
    "def Maps(M, N):\n",
    "    \"Return a list of M maps, each consisting of a set of N cities.\"\n",
    "    return [Cities(N) for m in range(M)]"
   ]
  },
  {
   "cell_type": "code",
   "execution_count": null,
   "metadata": {},
   "outputs": [],
   "source": [
    "compare_algorithms([greedy_TSP, greedy_exact_end_TSP, all_greedy_TSP], Maps(100, 50))"
   ]
  },
  {
   "cell_type": "code",
   "execution_count": null,
   "metadata": {},
   "outputs": [],
   "source": [
    "# Slide 53\n",
    "def bi_10_6(cities): return greedy_bi_TSP(cities, 10, 6)\n",
    "def bi_20_5(cities): return greedy_bi_TSP(cities, 20, 5)\n",
    "def bi_40_4(cities): return greedy_bi_TSP(cities, 40, 4)\n",
    "def bi_80_2(cities): return greedy_bi_TSP(cities, 80, 2)\n",
    "def bi_160_1(cities): return greedy_bi_TSP(cities, 160, 1)\n",
    "\n",
    "algorithms = [bi_10_6, bi_20_5, bi_40_4, bi_80_2, bi_160_1]"
   ]
  },
  {
   "cell_type": "code",
   "execution_count": null,
   "metadata": {},
   "outputs": [],
   "source": [
    "# Slide 54\n",
    "compare_algorithms(algorithms, Maps(100, 50))"
   ]
  },
  {
   "cell_type": "code",
   "execution_count": null,
   "metadata": {},
   "outputs": [],
   "source": [
    "# Slide 54\n",
    "compare_algorithms(algorithms, Maps(50, 100))"
   ]
  },
  {
   "cell_type": "code",
   "execution_count": null,
   "metadata": {},
   "outputs": [],
   "source": [
    "# Slide 55\n",
    "compare_algorithms(algorithms, Maps(25, 160))"
   ]
  },
  {
   "cell_type": "code",
   "execution_count": null,
   "metadata": {},
   "outputs": [],
   "source": [
    "# Slide 57 (Algoritma Greedy: Huffman Coding)\n",
    "string = 'BCAADDDCCACACAC'\n",
    "\n",
    "# Creating tree nodes\n",
    "class NodeTree(object):\n",
    "    def __init__(self, left=None, right=None):\n",
    "        self.left = left\n",
    "        self.right = right\n",
    "    def children(self):\n",
    "        return(self.left, self.right)\n",
    "    def nodes(self):\n",
    "        return(self.left, self.right)\n",
    "    def __str__(self):\n",
    "        return '%s_%s' % (self.left, self.right)"
   ]
  },
  {
   "cell_type": "code",
   "execution_count": null,
   "metadata": {},
   "outputs": [],
   "source": [
    "# Slide 58\n",
    "# Main function implementing huffman coding\n",
    "def huffman_code_tree(node, left=True, binString=''):\n",
    "    if type(node) is str:\n",
    "        return {node: binString}\n",
    "    (l, r) = node.children()\n",
    "    d = dict()\n",
    "    d.update(huffman_code_tree(l, True, binString + '0'))\n",
    "    d.update(huffman_code_tree(r, True, binString + '1'))\n",
    "    return d"
   ]
  },
  {
   "cell_type": "code",
   "execution_count": null,
   "metadata": {},
   "outputs": [],
   "source": [
    "# Slide 59\n",
    "# Calculating frequency\n",
    "freq = {}\n",
    "for c in string:\n",
    "    if c in freq:\n",
    "        freq[c] += 1\n",
    "    else:\n",
    "        freq[c] = 1\n",
    "freq = sorted(freq.items(), key=lambda x: x[1], reverse=True)\n",
    "\n",
    "nodes = freq\n",
    "while len(nodes) > 1:\n",
    "    (key1, c1) = nodes[-1]\n",
    "    (key2, c2) = nodes[-2]\n",
    "    nodes = NodeTree(key1, key2)\n",
    "    nodes.append((node, c1 + c2))\n",
    "\n",
    "    nodes = sorted(nodes, key=lambda x: x[1], reverse=True)\n",
    "\n",
    "huffmanCode = huffman_code_tree(nodes[0][0])\n",
    "\n",
    "print('Char | Huffman Code')\n",
    "print('-------------------')\n",
    "for(char, frequency) in freq:\n",
    "    print(' %-4r | %12s' % (char, huffmanCode[char]))"
   ]
  },
  {
   "cell_type": "code",
   "execution_count": null,
   "metadata": {},
   "outputs": [],
   "source": [
    "# Slide 85\n",
    "# A huffman tree node\n",
    "import heapq\n",
    "\n",
    "class node:\n",
    "    def __init__(self, freq, symbol, left=None, right=None):\n",
    "        # frequency of symbol\n",
    "        self.freq = freq\n",
    "\n",
    "        # symbol name (character)\n",
    "        self.symbol = symbol\n",
    "        \n",
    "        # node left of current node\n",
    "        self.left = left\n",
    "        \n",
    "        # node right of current node\n",
    "        self.right = right\n",
    "        \n",
    "        # tree direction (0/1)\n",
    "        self.huff = ''\n",
    "    def __lt__(self, nxt):\n",
    "        return self.freq < nxt.freq"
   ]
  },
  {
   "cell_type": "code",
   "execution_count": null,
   "metadata": {},
   "outputs": [],
   "source": [
    "# Slide 85\n",
    "# utility function to print huffman\n",
    "# codes for all symbols in the newly\n",
    "# created huffman tree\n",
    "def printNodes(node, val=''):\n",
    "\n",
    "    # huffman code for current node\n",
    "    newVal = val + str(node.huff)\n",
    "\n",
    "    # if node is not an edge node\n",
    "    # then traverse inside it\n",
    "    if(node.left):\n",
    "        printNodes(node.left, newVal)\n",
    "    if(node.right):\n",
    "        printNodes(node.right, newVal)\n",
    "\n",
    "        # if ndoe is edge node then\n",
    "        # display its huffman code\n",
    "    if(not node .left and not node.right):\n",
    "        print(f\"{node.symbol} -> {newVal}\")"
   ]
  },
  {
   "cell_type": "code",
   "execution_count": null,
   "metadata": {},
   "outputs": [],
   "source": [
    "# Slide 85\n",
    "# characters for huffman tree\n",
    "chars = ['a', 'b', 'c', 'd', 'e', 'f']\n",
    "\n",
    "# frequency of characters\n",
    "freq = [5, 9, 12, 13, 16, 45]\n",
    "\n",
    "# list containing unused nodes\n",
    "nodes = []\n",
    "\n",
    "# converting characters and frequencies\n",
    "# into huffman tree nodes\n",
    "\n",
    "for x in range(len(chars)):\n",
    "    heapq.heappush(nodes, node(freq[x], chars[x]))"
   ]
  },
  {
   "cell_type": "code",
   "execution_count": null,
   "metadata": {},
   "outputs": [],
   "source": [
    "# Slide 85\n",
    "while len(nodes) > 1:\n",
    "    # sort all the nodes in ascending order\n",
    "    # based on their frequency\n",
    "    left = heapq.heappop(nodes)\n",
    "    right = heapq.heappop(nodes)\n",
    "\n",
    "    # assign directional value to these nodes\n",
    "    left.huff = 0\n",
    "    right.huff = 1\n",
    "\n",
    "    # combine the 2 smallest nodes to create \n",
    "    # new node as their parent\n",
    "    newNode = node(left.right + right.freq, left.symbol + right.symbol, left, right)\n",
    "\n",
    "    heapq.heappush(nodes, newNode)\n",
    "\n",
    "# huffman Tree is ready!\n",
    "printNodes(nodes[0])"
   ]
  }
 ],
 "metadata": {
  "kernelspec": {
   "display_name": "Python 3",
   "language": "python",
   "name": "python3"
  },
  "language_info": {
   "codemirror_mode": {
    "name": "ipython",
    "version": 3
   },
   "file_extension": ".py",
   "mimetype": "text/x-python",
   "name": "python",
   "nbconvert_exporter": "python",
   "pygments_lexer": "ipython3",
   "version": "3.11.3"
  },
  "orig_nbformat": 4
 },
 "nbformat": 4,
 "nbformat_minor": 2
}
