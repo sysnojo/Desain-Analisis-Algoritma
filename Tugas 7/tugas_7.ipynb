{
 "cells": [
  {
   "cell_type": "markdown",
   "metadata": {},
   "source": [
    "# <center>**Tugas Latihan 7 DAA**</center>\n",
    "<hr>\n",
    "\n",
    "**Nama**   : John Bryan Khornelius<br>\n",
    "**NIM**    : 2022071034<br>\n",
    "**Kelas**  : Desain Analisis Algoritma - INF A<br>"
   ]
  },
  {
   "cell_type": "code",
   "execution_count": 13,
   "metadata": {},
   "outputs": [
    {
     "name": "stdout",
     "output_type": "stream",
     "text": [
      "53 37 \n",
      "16 11 \n"
     ]
    }
   ],
   "source": [
    "matA = [\n",
    "    [7, 3],\n",
    "    [2, 1],\n",
    "]\n",
    "\n",
    "matB = [\n",
    "    [5, 4],\n",
    "    [6, 3],\n",
    "]\n",
    "\n",
    "matC = [\n",
    "]\n",
    "\n",
    "for i in range(0, len(matA)):\n",
    "    row = []\n",
    "    for j in range(0, len(matA[0])):\n",
    "        total = 0\n",
    "        for k in range(0, len(matA)):\n",
    "            total = total + (matA[i][k] * matB[k][j])\n",
    "        row.append(total)\n",
    "    matC.append(row)\n",
    "\n",
    "for x in range(0, len(matC)):\n",
    "    for y in range(0, len(matC[0])):\n",
    "        if x == 1 and y == 0:\n",
    "            print()\n",
    "        print(matC[x][y], end=' ')\n",
    "\n",
    "print()"
   ]
  },
  {
   "cell_type": "code",
   "execution_count": 14,
   "metadata": {},
   "outputs": [
    {
     "name": "stdout",
     "output_type": "stream",
     "text": [
      "Hasil dari 4! 24\n"
     ]
    }
   ],
   "source": [
    "def faktorial(n):\n",
    "    if (n == 1):\n",
    "        return n\n",
    "    return faktorial(n-1)*n\n",
    "\n",
    "n = int(input(\"Masukkan nilai n: \"))\n",
    "print(f\"Hasil dari {n}!\", faktorial(n))"
   ]
  },
  {
   "cell_type": "code",
   "execution_count": 15,
   "metadata": {},
   "outputs": [
    {
     "name": "stdout",
     "output_type": "stream",
     "text": [
      "[3, 20, 100, -35, 50]\n",
      "Nilai terbesar:  100\n"
     ]
    }
   ],
   "source": [
    "def nilai_maksimal(deret_bilangan):\n",
    "    nilai_terbesar = deret_bilangan[0]\n",
    "\n",
    "    for nilai in deret_bilangan:\n",
    "        if nilai > nilai_terbesar:\n",
    "            nilai_terbesar = nilai\n",
    "    \n",
    "    return nilai_terbesar\n",
    "\n",
    "a = [3, 20, 100, -35, 50]\n",
    "\n",
    "print(a)\n",
    "print(\"Nilai terbesar: \", nilai_maksimal(a))"
   ]
  },
  {
   "cell_type": "code",
   "execution_count": 18,
   "metadata": {},
   "outputs": [
    {
     "name": "stdout",
     "output_type": "stream",
     "text": [
      "[3, 20, 100, -35, 50]\n",
      "Nilai terkecil: -35\n"
     ]
    }
   ],
   "source": [
    "def nilai_minimum(deret_bilangan):\n",
    "    nilai_terkecil = deret_bilangan[0]\n",
    "\n",
    "    for nilai in deret_bilangan:\n",
    "        if nilai < nilai_terkecil:\n",
    "            nilai_terkecil = nilai\n",
    "\n",
    "    return nilai_terkecil\n",
    "\n",
    "print(a)\n",
    "print(\"Nilai terkecil:\", nilai_minimum(a))"
   ]
  },
  {
   "cell_type": "code",
   "execution_count": 19,
   "metadata": {},
   "outputs": [
    {
     "name": "stdout",
     "output_type": "stream",
     "text": [
      "False\n",
      "True\n"
     ]
    }
   ],
   "source": [
    "def Sequential_Search(dlist, item):\n",
    "    \n",
    "    pos = 0\n",
    "    found = False\n",
    "    \n",
    "    while pos < len(dlist) and not found:\n",
    "        if dlist[pos] == item:\n",
    "            found = True\n",
    "        else:\n",
    "            pos = pos +1\n",
    "            \n",
    "    return found\n",
    "testlist = [1, 2, 32, 8, 17, 19, 42, 13, 0]\n",
    "print(Sequential_Search(testlist, 3))\n",
    "print(Sequential_Search(testlist, 2))\n",
    "\n"
   ]
  },
  {
   "cell_type": "code",
   "execution_count": 24,
   "metadata": {},
   "outputs": [
    {
     "name": "stdout",
     "output_type": "stream",
     "text": [
      "[17, 20, 26, 31, 44, 54, 55, 77, 93]\n"
     ]
    }
   ],
   "source": [
    "def bubblesort(arr):\n",
    "    for i in range(len(arr)-1, 0, -1):\n",
    "        for j in range(i):\n",
    "            if arr[j] > arr[j+1]:\n",
    "                temp = arr[j]\n",
    "                arr[j] = arr[j+1]\n",
    "                arr[j+1] = temp\n",
    "\n",
    "alist = [54, 26, 93, 17, 77, 31, 44, 55, 20]\n",
    "bubblesort(alist)\n",
    "print(alist)"
   ]
  },
  {
   "cell_type": "code",
   "execution_count": 45,
   "metadata": {},
   "outputs": [
    {
     "name": "stdout",
     "output_type": "stream",
     "text": [
      "-1 adalah angka prima\n"
     ]
    }
   ],
   "source": [
    "x = int(input('Input satu angka buat: '))\n",
    "\n",
    "angka_prima = True\n",
    "if((x == 0) or (x == 1)):\n",
    "    angka_prima = False\n",
    "else:\n",
    "    for i in range(2, x):\n",
    "        if((x % i) == 0):\n",
    "            angka_prima = False\n",
    "            break\n",
    "\n",
    "if(angka_prima):\n",
    "    print(x, 'adalah angka prima')\n",
    "else:\n",
    "    print(x, 'bukan angka prima')\n",
    "    "
   ]
  },
  {
   "cell_type": "code",
   "execution_count": 46,
   "metadata": {},
   "outputs": [
    {
     "name": "stdout",
     "output_type": "stream",
     "text": [
      "14.125\n"
     ]
    }
   ],
   "source": [
    "def polynomial_py(a, x):\n",
    "    result = 0\n",
    "    for n, a_n in enumerate(a):\n",
    "        x_power_n = 1\n",
    "        for i in range(n):\n",
    "            x_power_n *= x\n",
    "        result += a_n * x_power_n\n",
    "    return result\n",
    "\n",
    "a = [1, 2, 0, 3]\n",
    "x = 1.5\n",
    "print(polynomial_py(a, x))"
   ]
  },
  {
   "cell_type": "code",
   "execution_count": 48,
   "metadata": {},
   "outputs": [
    {
     "name": "stdout",
     "output_type": "stream",
     "text": [
      "The original String is: GfG is good website\n",
      "The original String is: ['GfG', 'site', 'CS', 'Geeks', 'Tutorial']\n",
      "The list of found substrings: ['GfG', 'site']\n"
     ]
    }
   ],
   "source": [
    "test_str = \"GfG is good website\"\n",
    "test_list = [\"GfG\", \"site\", \"CS\", \"Geeks\", \"Tutorial\"]\n",
    "\n",
    "print(\"The original String is: \" + test_str)\n",
    "print(\"The original String is: \" + str(test_list))\n",
    "\n",
    "res = [sub for sub in test_list if sub in test_str]\n",
    "\n",
    "print(\"The list of found substrings: \" + str(res))"
   ]
  },
  {
   "cell_type": "code",
   "execution_count": 53,
   "metadata": {},
   "outputs": [
    {
     "name": "stdout",
     "output_type": "stream",
     "text": [
      "Titik:\n",
      " [[26, 26], [74, 29], [11, 60]]\n",
      "Titik:  [26, 26] Titik:  [74, 29] : 48.093658625644196\n",
      "Titik:  [26, 26] Titik:  [11, 60] : 37.16180835212409\n",
      "Titik:  [74, 29] Titik:  [11, 60] : 70.21395872616783\n",
      "Jarak terdekat:\n",
      " 37.16180835212409\n"
     ]
    }
   ],
   "source": [
    "from math import sqrt\n",
    "from random import randint\n",
    "titik = []\n",
    "n = int(input(\"Masukkan jumlah titik yang ingin Anda cari jaraknya: \"))\n",
    "for i in range(0, n):\n",
    "    titik.append([randint(0, 100), randint(0, 100)])\n",
    "print('Titik:\\n', titik)\n",
    "def hitungjarak(lis):\n",
    "    lisjarak = []\n",
    "    for i in range(0, len(lis)-1):\n",
    "        for j in range(i + 1, len(lis)):\n",
    "            jarak = sqrt((lis[i][0]- lis[j][0])**2 + (lis[i][1]-lis[j][1])**2)\n",
    "            lisjarak.append(jarak)\n",
    "            print('Titik: ', lis[i], 'Titik: ', lis[j], ':', jarak)\n",
    "    return min(lisjarak)\n",
    "print('Jarak terdekat:\\n', hitungjarak(titik))"
   ]
  },
  {
   "cell_type": "code",
   "execution_count": 59,
   "metadata": {},
   "outputs": [
    {
     "name": "stdout",
     "output_type": "stream",
     "text": [
      "88\n"
     ]
    }
   ],
   "source": [
    "def find_maximum(lst):\n",
    "    max = None\n",
    "    for el in lst:\n",
    "        if max == None or el > max:\n",
    "            max = el\n",
    "        return max\n",
    "test_scores = [88, 93, 75, 100, 80, 67, 71, 92, 90, 83]\n",
    "print(find_maximum(test_scores))"
   ]
  },
  {
   "cell_type": "code",
   "execution_count": 60,
   "metadata": {},
   "outputs": [
    {
     "name": "stdout",
     "output_type": "stream",
     "text": [
      "(True, 3)\n"
     ]
    }
   ],
   "source": [
    "def Sequential_Search(dlist, item):\n",
    "    \n",
    "    pos = 0\n",
    "    found = False\n",
    "    \n",
    "    while pos < len(dlist) and not found:\n",
    "        if dlist[pos] == item:\n",
    "            found = True\n",
    "        else:\n",
    "            pos = pos +1\n",
    "            \n",
    "    return found, pos\n",
    "print(Sequential_Search([11, 23, 58, 31, 56, 77, 43, 12, 65, 19], 31))\n"
   ]
  },
  {
   "cell_type": "code",
   "execution_count": 61,
   "metadata": {},
   "outputs": [
    {
     "name": "stdout",
     "output_type": "stream",
     "text": [
      "(True, 6)\n"
     ]
    }
   ],
   "source": [
    "print(Sequential_Search(['a', 'b', 'c', 'd', 'e', 'f', 'g', 'h'], 'g'))"
   ]
  },
  {
   "cell_type": "code",
   "execution_count": 62,
   "metadata": {},
   "outputs": [
    {
     "name": "stdout",
     "output_type": "stream",
     "text": [
      "Hasil = 4096\n"
     ]
    }
   ],
   "source": [
    "bilangan = int(input(\"Masukkan bilangan: \"))\n",
    "pangkat = int(input(\"Masukkan pangkat: \"))\n",
    "\n",
    "def hitung_pangkat(bilangan, pangkat):\n",
    "    if pangkat > 1:\n",
    "        return bilangan * hitung_pangkat(bilangan, pangkat - 1)\n",
    "    return bilangan\n",
    "\n",
    "hasil = hitung_pangkat(bilangan, pangkat)\n",
    "print(f\"Hasil = {hasil}\")"
   ]
  }
 ],
 "metadata": {
  "kernelspec": {
   "display_name": "Python 3",
   "language": "python",
   "name": "python3"
  },
  "language_info": {
   "codemirror_mode": {
    "name": "ipython",
    "version": 3
   },
   "file_extension": ".py",
   "mimetype": "text/x-python",
   "name": "python",
   "nbconvert_exporter": "python",
   "pygments_lexer": "ipython3",
   "version": "3.11.3"
  },
  "orig_nbformat": 4
 },
 "nbformat": 4,
 "nbformat_minor": 2
}
