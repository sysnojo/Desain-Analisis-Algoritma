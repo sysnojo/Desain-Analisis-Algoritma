{
 "cells": [
  {
   "cell_type": "markdown",
   "metadata": {},
   "source": [
    "# <center>**Tugas Latihan 2 DAA**</center>\n",
    "<hr>\n",
    "\n",
    "**Nama**   : John Bryan Khornelius<br>\n",
    "**NIM**    : 2022071034<br>\n",
    "**Kelas**  : Desain Analisis Algoritma - INF A<br>"
   ]
  },
  {
   "cell_type": "code",
   "execution_count": 38,
   "metadata": {},
   "outputs": [
    {
     "name": "stdout",
     "output_type": "stream",
     "text": [
      "[1, 2, 3, 4, 5, 6]\n"
     ]
    }
   ],
   "source": [
    "import numpy as np\n",
    "\n",
    "# list angka\n",
    "a = [1, 2, 3]\n",
    "b = [4, 5, 6]\n",
    "\n",
    "hasil = a + b\n",
    "\n",
    "print(hasil)"
   ]
  },
  {
   "cell_type": "code",
   "execution_count": 1,
   "metadata": {},
   "outputs": [
    {
     "data": {
      "text/plain": [
       "[5, 7, 9]"
      ]
     },
     "execution_count": 1,
     "metadata": {},
     "output_type": "execute_result"
    }
   ],
   "source": [
    "# list angka\n",
    "a = [1, 2, 3]\n",
    "b = [4, 5, 6]\n",
    "\n",
    "def add(list_a, list_b):\n",
    "    result = []\n",
    "    for first, second in zip(list_a, list_b):\n",
    "        result.append(first + second)\n",
    "    return result\n",
    "\n",
    "add(a, b)"
   ]
  },
  {
   "cell_type": "code",
   "execution_count": 23,
   "metadata": {},
   "outputs": [
    {
     "name": "stdout",
     "output_type": "stream",
     "text": [
      "90\n"
     ]
    }
   ],
   "source": [
    "import numpy as np\n",
    "# membuat array\n",
    "nilai_siswa = np.array([85, 55, 40, 90])\n",
    "\n",
    "# mengakses data pada array\n",
    "print(nilai_siswa[3])"
   ]
  },
  {
   "cell_type": "code",
   "execution_count": 37,
   "metadata": {},
   "outputs": [
    {
     "name": "stdout",
     "output_type": "stream",
     "text": [
      "1.25.2\n"
     ]
    }
   ],
   "source": [
    "import numpy as np\n",
    "print(np.__version__)"
   ]
  },
  {
   "cell_type": "markdown",
   "metadata": {},
   "source": [
    "<style>\n",
    "    .head1:hover {\n",
    "        color: white;\n",
    "    }\n",
    "</style>\n",
    "<h1 style=\"color:red; font-weight:bold; background-color:white;\"># Big O Notation</h1>\n",
    "<h2 style=\"color:blue; font-weight:bold\">## Constant time (O(1)) complexity </h2>\n",
    "<p style=\"font-family:Courier New\">If an algorithm takes the same amount of time to run, independent of the size of the inpute data, it is said to run in constant time. It is represented by O(1)</p>"
   ]
  },
  {
   "cell_type": "code",
   "execution_count": 40,
   "metadata": {},
   "outputs": [
    {
     "name": "stdout",
     "output_type": "stream",
     "text": [
      "Hello World\n",
      "Nama saya John Bryan Khornelius\n",
      "NIM saya 2022071034\n"
     ]
    }
   ],
   "source": [
    "print(\"Hello World\")\n",
    "print(\"Nama saya John Bryan Khornelius\")\n",
    "print(\"NIM saya 2022071034\")"
   ]
  },
  {
   "cell_type": "code",
   "execution_count": 41,
   "metadata": {},
   "outputs": [
    {
     "name": "stdout",
     "output_type": "stream",
     "text": [
      "Five is greater than two\n"
     ]
    }
   ],
   "source": [
    "if 5 > 2:\n",
    "    print(\"Five is greater than two\")"
   ]
  },
  {
   "cell_type": "code",
   "execution_count": 42,
   "metadata": {},
   "outputs": [
    {
     "name": "stdout",
     "output_type": "stream",
     "text": [
      "5\n",
      "John\n"
     ]
    }
   ],
   "source": [
    "x = 5\n",
    "y = \"John\"\n",
    "print(x)\n",
    "print(y)"
   ]
  },
  {
   "cell_type": "code",
   "execution_count": 43,
   "metadata": {},
   "outputs": [
    {
     "name": "stdout",
     "output_type": "stream",
     "text": [
      "Sally\n"
     ]
    }
   ],
   "source": [
    "x = 4\n",
    "x = \"Sally\"\n",
    "print(x)"
   ]
  },
  {
   "cell_type": "code",
   "execution_count": 51,
   "metadata": {},
   "outputs": [
    {
     "name": "stdout",
     "output_type": "stream",
     "text": [
      "1\n",
      "2\n",
      "13\n"
     ]
    }
   ],
   "source": [
    "def getFirst(myList):\n",
    "    return myList[0]\n",
    "\n",
    "def getSecond(myList):\n",
    "    return myList[1]\n",
    "\n",
    "def getLast(myList):\n",
    "    return myList[len(myList) - 1]\n",
    "\n",
    "print(getFirst([1, 2, 3, 4, 5, 6, 7, 8, 9, 10]))\n",
    "print(getSecond([1, 2, 3, 4, 5, 6, 7, 8, 9, 10]))\n",
    "print(getLast([1, 2, 3, 4, 5, 6, 7, 8, 9, 10, 11, 12 ,13]))"
   ]
  },
  {
   "cell_type": "code",
   "execution_count": 65,
   "metadata": {},
   "outputs": [
    {
     "name": "stdout",
     "output_type": "stream",
     "text": [
      "10\n",
      "6\n",
      "10\n",
      "44\n",
      "18\n"
     ]
    }
   ],
   "source": [
    "def getSum(myList):\n",
    "    sum = 0\n",
    "    for item in myList:\n",
    "        sum = sum + item\n",
    "    return sum\n",
    "\n",
    "print(getSum([1, 2, 3, 4]))\n",
    "print(getSum([1, 2, 3])) \n",
    "print(getSum([1, 2, 3, 4])) \n",
    "print(getSum([7, 3, 5, 11, 8, 10])) \n",
    "print(getSum([-2, 4, 5, -7, 9, 4, 5])) "
   ]
  },
  {
   "cell_type": "code",
   "execution_count": 68,
   "metadata": {},
   "outputs": [
    {
     "name": "stdout",
     "output_type": "stream",
     "text": [
      "120\n"
     ]
    }
   ],
   "source": [
    "def getMul(myList):\n",
    "    mul = 1\n",
    "    for item in myList:\n",
    "        mul = mul * item\n",
    "    return mul\n",
    "\n",
    "print(getMul([1, 2, 3, 4, 5]))"
   ]
  },
  {
   "cell_type": "code",
   "execution_count": 98,
   "metadata": {},
   "outputs": [
    {
     "name": "stdout",
     "output_type": "stream",
     "text": [
      "0.0001984126984126984\n"
     ]
    }
   ],
   "source": [
    "def getDiv(myList):\n",
    "    div = 1\n",
    "    for item in myList:\n",
    "        div = div / item\n",
    "    return div\n",
    "\n",
    "print((getDiv([1, 2,3 ,4, 5, 6, 7])))"
   ]
  },
  {
   "cell_type": "code",
   "execution_count": 100,
   "metadata": {},
   "outputs": [
    {
     "name": "stdout",
     "output_type": "stream",
     "text": [
      "2.5\n"
     ]
    }
   ],
   "source": [
    "def getAvg(myList):\n",
    "    sum = 0\n",
    "    for item in myList:\n",
    "        sum = sum + item\n",
    "    avg = sum/len(myList)\n",
    "    return avg\n",
    "\n",
    "print(getAvg([1, 2, 3, 4]))"
   ]
  },
  {
   "cell_type": "code",
   "execution_count": 110,
   "metadata": {},
   "outputs": [
    {
     "name": "stdout",
     "output_type": "stream",
     "text": [
      "0.8\n"
     ]
    }
   ],
   "source": [
    "def divNum(list_1, list_2):\n",
    "    sum_1 = 0\n",
    "    sum_2 = 0\n",
    "\n",
    "    for item_1, item_2 in zip(list_1, list_2):\n",
    "        sum_1 = sum_1 + item_1\n",
    "        sum_2 = sum_2 + item_2\n",
    "\n",
    "    div = sum_1 / sum_2\n",
    "    return div\n",
    "\n",
    "print(divNum([1, 2, 3, 4, 2], [1, 2, 3, 4, 5]))"
   ]
  },
  {
   "cell_type": "code",
   "execution_count": 3,
   "metadata": {},
   "outputs": [
    {
     "name": "stdout",
     "output_type": "stream",
     "text": [
      "4\n"
     ]
    }
   ],
   "source": [
    "def getSum(myList):\n",
    "    sum = 0\n",
    "    for item in myList:\n",
    "        sum = sum + item\n",
    "    return sum\n",
    "\n",
    "def divNumMin(list_1, list_2):\n",
    "    return getSum(list_1) - getSum(list_2)\n",
    "\n",
    "print(divNumMin([1, 2, 3, 4, 9], [1, 2, 3, 4, 5]))"
   ]
  }
 ],
 "metadata": {
  "kernelspec": {
   "display_name": "Python 3",
   "language": "python",
   "name": "python3"
  },
  "language_info": {
   "codemirror_mode": {
    "name": "ipython",
    "version": 3
   },
   "file_extension": ".py",
   "mimetype": "text/x-python",
   "name": "python",
   "nbconvert_exporter": "python",
   "pygments_lexer": "ipython3",
   "version": "3.11.3"
  },
  "orig_nbformat": 4
 },
 "nbformat": 4,
 "nbformat_minor": 2
}
