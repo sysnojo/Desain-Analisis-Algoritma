{
 "cells": [
  {
   "cell_type": "markdown",
   "metadata": {},
   "source": [
    "# <center>**Tugas Latihan 5 DAA**</center>\n",
    "<hr>\n",
    "\n",
    "**Nama**   : John Bryan Khornelius<br>\n",
    "**NIM**    : 2022071034<br>\n",
    "**Kelas**  : Desain Analisis Algoritma - INF A<br>"
   ]
  },
  {
   "cell_type": "code",
   "execution_count": 1,
   "metadata": {},
   "outputs": [
    {
     "name": "stdout",
     "output_type": "stream",
     "text": [
      "6\n"
     ]
    }
   ],
   "source": [
    "# slide 12\n",
    "# hitung inversi\n",
    "def countInversion(arr):\n",
    "    result = 0\n",
    "    for i in range(len(arr)):\n",
    "        for j in range(i + 1, len(arr)):\n",
    "            if arr[i] > arr[j]:\n",
    "                result += 1\n",
    "    return result\n",
    "\n",
    "arr = [21, 70, 36, 14, 25]\n",
    "result = countInversion(arr)\n",
    "print(result)"
   ]
  },
  {
   "cell_type": "code",
   "execution_count": 35,
   "metadata": {},
   "outputs": [
    {
     "data": {
      "text/plain": [
       "450"
      ]
     },
     "execution_count": 35,
     "metadata": {},
     "output_type": "execute_result"
    }
   ],
   "source": [
    "# slide 20 (Min Maks Conquer)\n",
    "# divide and conquer max function\n",
    "def divideAndConquer_Max(arr, ind, len):\n",
    "    maximum = -1\n",
    "\n",
    "    # arr -> array to check\n",
    "    # ind -> starting point from where to search\n",
    "    # len -> length of the array\n",
    "    if (ind >= len - 2):\n",
    "        if (arr[ind] > arr[ind + 1]):\n",
    "            return arr[ind]\n",
    "        else:\n",
    "            return arr[ind + 1]\n",
    "        \n",
    "    # recursion\n",
    "    maximum = divideAndConquer_Max(arr, ind + 1, len)\n",
    "\n",
    "    if (arr[ind] > maximum):\n",
    "        return arr[ind]\n",
    "    else:\n",
    "        return maximum\n",
    "    \n",
    "# starting point to search from 0 index\n",
    "divideAndConquer_Max([1, 200, 3, 450, 67, 99], 0, 6)\n"
   ]
  },
  {
   "cell_type": "code",
   "execution_count": 17,
   "metadata": {},
   "outputs": [
    {
     "data": {
      "text/plain": [
       "-2"
      ]
     },
     "execution_count": 17,
     "metadata": {},
     "output_type": "execute_result"
    }
   ],
   "source": [
    "# slide 20 (Min Maks Conquer)\n",
    "# divide and conquer min function\n",
    "def divideAndConquer_Min(arr, ind, len):\n",
    "    minimum = 0\n",
    "\n",
    "    # arr -> array to check\n",
    "    # ind -> starting point from where to search\n",
    "    # len -> length of the array\n",
    "\n",
    "    if (ind >= len - 2):\n",
    "        if (arr[ind] < arr[ind + 1]):\n",
    "            return arr[ind]\n",
    "        else:\n",
    "            return arr[ind + 1]\n",
    "        \n",
    "    # recursion\n",
    "    minimum = divideAndConquer_Min(arr, ind + 1, len)\n",
    "\n",
    "    if (arr[ind] < minimum):\n",
    "        return arr[ind]\n",
    "    else:\n",
    "        return minimum\n",
    "    \n",
    "divideAndConquer_Min([10, 20, 300, -2, 9, 1], 0, 6)"
   ]
  },
  {
   "cell_type": "code",
   "execution_count": 18,
   "metadata": {},
   "outputs": [
    {
     "name": "stdout",
     "output_type": "stream",
     "text": [
      "Maximum number in array is = 35\n",
      "Minimum number in array is = 1\n"
     ]
    }
   ],
   "source": [
    "# array initialization\n",
    "arr = [4, 12, 23, 9, 21, 1, 35, 2, 24]\n",
    "\n",
    "maximum = divideAndConquer_Max(arr, 0, len(arr))\n",
    "minimum = divideAndConquer_Min(arr, 0, len(arr))\n",
    "\n",
    "print(f\"Maximum number in array is = {maximum}\")\n",
    "print(f\"Minimum number in array is = {minimum}\")"
   ]
  },
  {
   "cell_type": "code",
   "execution_count": 41,
   "metadata": {},
   "outputs": [
    {
     "name": "stdout",
     "output_type": "stream",
     "text": [
      "Sorted array is: 1 2 4 9 12 21 23 24 35 \n"
     ]
    }
   ],
   "source": [
    "# slide 25 (merge sort)\n",
    "def mergeSort(array):\n",
    "    if len(array) > 1:\n",
    "        # print(\"trace: ABOVE RECURSION\")\n",
    "        # print(f\"trace: len({array}) > 1 => TRUE\")\n",
    "\n",
    "        # r is the point where the array is divided into two subarrays\n",
    "        r = len(array) // 2\n",
    "        # print(f\"trace: r = {r}\")\n",
    "        L = array[:r]\n",
    "        # print(f\"trace: L = {array[:r]}\")\n",
    "        M = array[r:]\n",
    "        # print(f\"trace: r = {array[r:]}\")\n",
    "\n",
    "        # sort the two halves (recursion)\n",
    "        mergeSort(L)\n",
    "        mergeSort(M)\n",
    "        # print(\"trace: BELOW RECURSION\")\n",
    "\n",
    "        i = j = k = 0\n",
    "\n",
    "        # until we reach either end of either L or M, pick larger among\n",
    "        # elements L and M and place them in the correct position at A[p..r]\n",
    "        while i < len(L) and j < len(M):\n",
    "            if L[i] < M[j]:\n",
    "                array[k] = L[i]\n",
    "                i += 1\n",
    "            else:\n",
    "                array[k] = M[j]\n",
    "                j += 1\n",
    "            k += 1\n",
    "        # when we run out of elements in either L or M,\n",
    "        # pick up the remaining elements and put in A[p..r]\n",
    "        while i < len(L):\n",
    "            array[k] = L[i]\n",
    "            i += 1\n",
    "            k += 1\n",
    "        while j < len(M):\n",
    "            array[k] = M[j]\n",
    "            j += 1\n",
    "            k += 1\n",
    "\n",
    "# Print the array\n",
    "def printList(array):\n",
    "    for i in range(len(array)):\n",
    "        print(array[i], end=\" \")\n",
    "    print()\n",
    "\n",
    "# Driver program\n",
    "if __name__ == '__main__':\n",
    "    array = [4, 12, 23, 9, 21, 1, 35, 2, 24]\n",
    "\n",
    "    mergeSort(array)\n",
    "\n",
    "    print(\"Sorted array is: \", end=\"\")\n",
    "    printList(array)"
   ]
  },
  {
   "cell_type": "code",
   "execution_count": 42,
   "metadata": {},
   "outputs": [
    {
     "name": "stdout",
     "output_type": "stream",
     "text": [
      "Unsorted array\n",
      "[4, 12, 23, 9, 21, 1, 35, 2, 24]\n",
      "Sorted array in ascending order: \n",
      "[1, 2, 4, 9, 12, 21, 23, 24, 35]\n"
     ]
    }
   ],
   "source": [
    "# slide 36 (quick sort)\n",
    "# function to find the partition position\n",
    "def partition(array, low, high):\n",
    "    # choose the righmost element as pivot\n",
    "    pivot = array[high]\n",
    "\n",
    "    # pointer for greater element\n",
    "    i = low - 1\n",
    "\n",
    "    # traverse through all elements\n",
    "    # compare each element with pivot\n",
    "    for j in range(low, high):\n",
    "        if array[j] <= pivot:\n",
    "            # if element smaller than pivot is found\n",
    "            # swap it with the greater element pointed by i\n",
    "            i = i + 1\n",
    "\n",
    "            # swapping element at i with element at j \n",
    "            (array[i], array[j]) = (array[j], array[i])\n",
    "    # swap the pivot element with the greater element specified by i\n",
    "    (array[i + 1], array[high]) = (array[high], array[i + 1])\n",
    "\n",
    "    # return the position from where partition is done\n",
    "    return i + 1\n",
    "\n",
    "# function to perform quick sort\n",
    "def quickSort(array, low, high):\n",
    "    if low < high:\n",
    "        # find pivot element such that\n",
    "        # element smaller than pivot are on the left\n",
    "        # element greater than pivot are on the right\n",
    "        pi = partition(array, low, high)\n",
    "\n",
    "        # recursive call on the left of pivot\n",
    "        quickSort(array, low, pi - 1)\n",
    "\n",
    "        # recursive call on the right of pivot\n",
    "        quickSort(array, pi + 1, high)\n",
    "\n",
    "data = [4, 12, 23, 9, 21, 1, 35, 2, 24]\n",
    "print(\"Unsorted array\")\n",
    "print(data)\n",
    "\n",
    "size = len(data)\n",
    "\n",
    "quickSort(data, 0, size - 1)\n",
    "\n",
    "print(\"Sorted array in ascending order: \")\n",
    "print(data)"
   ]
  },
  {
   "cell_type": "code",
   "execution_count": 43,
   "metadata": {},
   "outputs": [
    {
     "name": "stdout",
     "output_type": "stream",
     "text": [
      "7\n"
     ]
    }
   ],
   "source": [
    "# slide 37 (maximum subarray sum)\n",
    "def maxSubSum(arr):\n",
    "    max_so_far = 0\n",
    "    max_ending_here = 0\n",
    "    for i in range(len(arr)):\n",
    "        max_ending_here += arr[i]\n",
    "        if max_ending_here > max_so_far:\n",
    "            max_so_far = max_ending_here\n",
    "        if max_ending_here < 0:\n",
    "            max_ending_here = 0\n",
    "    return max_so_far\n",
    "\n",
    "arr = [-2, -5, 6, -2, -3, 1, 5, -6]\n",
    "result = maxSubSum(arr) \n",
    "print(result)"
   ]
  },
  {
   "cell_type": "code",
   "execution_count": 45,
   "metadata": {},
   "outputs": [
    {
     "name": "stdout",
     "output_type": "stream",
     "text": [
      "7\n"
     ]
    }
   ],
   "source": [
    "# slide 38 (maxCrossing)\n",
    "def maxCrossingSum(arr, low, mid, high):\n",
    "    result = 0; left_sum = float('-infinity')\n",
    "    for i in range(mid, low -1 , -1):\n",
    "        result += arr[i]\n",
    "        if result > left_sum:\n",
    "            left_sum = result\n",
    "    result = 0; right_sum = float('-infinity')\n",
    "    for i in range(mid + 1, high + 1):\n",
    "        result += arr[i]\n",
    "        if result > right_sum:\n",
    "            right_sum = result\n",
    "    return left_sum + right_sum\n",
    "\n",
    "def maxSum(arr, low, high):\n",
    "    if low == high:\n",
    "        return arr[low]\n",
    "    mid = (low + high) // 2\n",
    "    return max(maxSum(arr, low, mid), maxSum(arr, mid + 1, high), maxCrossingSum(arr, low, mid, high))\n",
    "\n",
    "arr = [-2, -5, 6, -2, -3, 1, 5, -6]\n",
    "result = maxSum(arr, 0, len(arr) - 1)\n",
    "print(result)"
   ]
  },
  {
   "cell_type": "code",
   "execution_count": 48,
   "metadata": {},
   "outputs": [
    {
     "name": "stdout",
     "output_type": "stream",
     "text": [
      "gee\n"
     ]
    }
   ],
   "source": [
    "# slide 39 (longest common prefix)\n",
    "def longestCommonPrefix(a):\n",
    "    size = len(a)\n",
    "\n",
    "    # if size is 0, return empty string\n",
    "    if (size == 0):\n",
    "        return \"\"\n",
    "    if (size == 1):\n",
    "        return a[0]\n",
    "    \n",
    "    # sort the array of strings\n",
    "    a.sort()\n",
    "\n",
    "    # find the minimum length from\n",
    "    # the first and last string\n",
    "    end = min(len(a[0]), len(a[size - 1]))\n",
    "\n",
    "    # find the common prefix between\n",
    "    # the first and last string\n",
    "    i = 0\n",
    "    while(i < end and a[0][i] == a[size - 1][i]):\n",
    "        i += 1\n",
    "    pre = a[0][0:i]\n",
    "    return pre\n",
    "\n",
    "arr = [\"geeksforgeeks\", \"geeks\", \"geek\", \"geezer\"]\n",
    "result = longestCommonPrefix(arr)\n",
    "print(result)"
   ]
  },
  {
   "cell_type": "code",
   "execution_count": 49,
   "metadata": {},
   "outputs": [
    {
     "name": "stdout",
     "output_type": "stream",
     "text": [
      "ap\n"
     ]
    }
   ],
   "source": [
    "arr = [\"apple\", \"ape\", \"april\"]\n",
    "result = longestCommonPrefix(arr)\n",
    "print(result)"
   ]
  },
  {
   "cell_type": "code",
   "execution_count": 52,
   "metadata": {},
   "outputs": [
    {
     "name": "stdout",
     "output_type": "stream",
     "text": [
      "16\n"
     ]
    }
   ],
   "source": [
    "# slide 40\n",
    "def medianOfArray(arr1, arr2, n):\n",
    "    m1 = -1 # first number\n",
    "    m2 = -1 # second number\n",
    "    count = 0\n",
    "    i = j = 0\n",
    "    while count < n + 1:\n",
    "        count += 1\n",
    "        if i == n: # i == 5 index error if arr[i] < arr2[j] is checked\n",
    "            m1 = m2\n",
    "            m2 = arr2[0]\n",
    "            break\n",
    "        if j == n:\n",
    "            m1 = m2\n",
    "            m2 = arr1[0]\n",
    "            break\n",
    "        if arr1[i] < arr2[j]:\n",
    "            m1 = m2\n",
    "            m2 = arr1[i]\n",
    "            i += 1\n",
    "        else:\n",
    "            m1 = m2\n",
    "            m2 = arr2[j]\n",
    "            j += 1\n",
    "    return (m1 + m2) // 2\n",
    "\n",
    "arr1 = [1, 12, 15, 26, 38]\n",
    "arr2 = [2, 13, 17, 30, 45]\n",
    "\n",
    "print(medianOfArray(arr1, arr2, len(arr1)))"
   ]
  },
  {
   "cell_type": "code",
   "execution_count": 53,
   "metadata": {},
   "outputs": [
    {
     "name": "stdout",
     "output_type": "stream",
     "text": [
      "Median =  3\n"
     ]
    }
   ],
   "source": [
    "# slide 43 (median dua array urut berbeda ukuran)\n",
    "def Solution(arr):\n",
    "    n = len(arr)\n",
    "    # if length of array is even\n",
    "    if n % 2 == 0:\n",
    "        z = n // 2\n",
    "        e = arr[z]\n",
    "        q = arr[z - 1]\n",
    "        ans = (e + q) / 2\n",
    "        return ans\n",
    "    # if length of array is odd\n",
    "    else :\n",
    "        z = n // 2\n",
    "        ans = arr[z]\n",
    "        return ans\n",
    "\n",
    "arr1 = [-5, 3, 6, 12, 15]\n",
    "arr2 = [-12, -10, -6, -3, 4, 10]\n",
    "# Concatenating the two arrays\n",
    "arr3 = arr1 + arr2\n",
    "# sorting the resultant array\n",
    "arr3.sort()\n",
    "print(\"Median = \", Solution(arr3))"
   ]
  },
  {
   "cell_type": "code",
   "execution_count": 54,
   "metadata": {},
   "outputs": [
    {
     "name": "stdout",
     "output_type": "stream",
     "text": [
      "2\n"
     ]
    }
   ],
   "source": [
    "# slide 44 (Floor sorted array)\n",
    "def floorSorted(arr, low, high, x):\n",
    "    # print(low, high)\n",
    "    if low > high:\n",
    "        return -1\n",
    "    if arr[low] > x:\n",
    "        # print(\"inside\")\n",
    "        return -1\n",
    "    if arr[high] <= x:\n",
    "        return arr[high]\n",
    "    mid = (low + high) // 2\n",
    "    if arr[mid] == x:\n",
    "        return arr[mid]\n",
    "    if mid > 0 and x >= arr[mid - 1] and arr[mid] > x:\n",
    "        return arr[mid - 1]\n",
    "    if mid < high and x < arr[mid + 1] and x >= arr[mid]:\n",
    "        return arr[mid]\n",
    "    if x > arr[mid]:\n",
    "        return floorSorted(arr, mid + 1, high, x)\n",
    "    else:\n",
    "        return floorSorted(arr, low, mid - 1, x)\n",
    "\n",
    "arr = [1, 2, 8, 10, 12, 14, 19]\n",
    "x = 5\n",
    "print(floorSorted(arr, 0, len(arr) - 1, x))"
   ]
  },
  {
   "cell_type": "code",
   "execution_count": 55,
   "metadata": {},
   "outputs": [
    {
     "name": "stdout",
     "output_type": "stream",
     "text": [
      "9\n"
     ]
    }
   ],
   "source": [
    "# slide 45 (closest Number)\n",
    "def closestNumber(arr, low, high, x):\n",
    "    if low > high:\n",
    "        return -1\n",
    "    if arr[high] <= x:\n",
    "        return arr[high]\n",
    "    if arr[low] >= x:\n",
    "        return arr[low]\n",
    "    mid = (low + high) // 2\n",
    "    if arr[mid] == x:\n",
    "        return arr[mid]\n",
    "    abs_mid = abs(arr[mid] - x)\n",
    "    if mid > 0:\n",
    "        abs_left = abs(arr[mid - 1] - x)\n",
    "        if abs_left < abs_mid:\n",
    "            return closestNumber(arr, low, mid - 1, x)\n",
    "    if mid < high:\n",
    "        abs_right = abs(arr[mid + 1] - x)\n",
    "        if abs_right < abs_mid:\n",
    "            return closestNumber(arr, low, mid + 1, high, x)\n",
    "    # print('after')\n",
    "    return arr[mid]\n",
    "\n",
    "arr = [2, 5, 6, 7, 8, 8, 9]\n",
    "x = 9\n",
    "print(closestNumber(arr, 0, len(arr) - 1, x))"
   ]
  },
  {
   "cell_type": "code",
   "execution_count": 56,
   "metadata": {},
   "outputs": [
    {
     "name": "stdout",
     "output_type": "stream",
     "text": [
      "9.35\n"
     ]
    }
   ],
   "source": [
    "# slide 46 (nilai terdekat)\n",
    "def find_closest(lst, k):\n",
    "    lst.sort()\n",
    "    closest_num = lst[0]\n",
    "    for num in lst:\n",
    "        if abs(num - k) < abs(closest_num - k):\n",
    "            closest_num = num\n",
    "        if num > k:\n",
    "            break\n",
    "    return closest_num\n",
    "\n",
    "lst = [3.64, 5.2, 9.42, 9.35, 8.5, 8]\n",
    "k = 9.1\n",
    "print(find_closest(lst, k))"
   ]
  },
  {
   "cell_type": "code",
   "execution_count": 57,
   "metadata": {},
   "outputs": [
    {
     "name": "stdout",
     "output_type": "stream",
     "text": [
      "5\n"
     ]
    }
   ],
   "source": [
    "lst = [2, 5, 5, 7, 8, 8, 9]\n",
    "k = 6\n",
    "print(find_closest(lst, k))"
   ]
  },
  {
   "cell_type": "code",
   "execution_count": 58,
   "metadata": {},
   "outputs": [
    {
     "name": "stdout",
     "output_type": "stream",
     "text": [
      "1\n"
     ]
    }
   ],
   "source": [
    "# slide 47 (find fixed point)\n",
    "def fixedPoint(arr, low, high):\n",
    "    if low > high:\n",
    "        return -1\n",
    "    if arr[high] == high:\n",
    "        return arr[high]\n",
    "    if arr[low] == low:\n",
    "        return arr[low]\n",
    "    mid = (low + high) // 2\n",
    "    if arr[mid] == mid:\n",
    "        return arr[mid]\n",
    "    if mid > arr[mid]:\n",
    "        return fixedPoint(arr, mid + 1, high)\n",
    "    else:\n",
    "        return fixedPoint(arr, low, mid - 1)\n",
    "arr = [9, 1, 4, 5, 2]\n",
    "print(fixedPoint(arr, 0, len(arr) - 1))"
   ]
  }
 ],
 "metadata": {
  "kernelspec": {
   "display_name": "Python 3",
   "language": "python",
   "name": "python3"
  },
  "language_info": {
   "codemirror_mode": {
    "name": "ipython",
    "version": 3
   },
   "file_extension": ".py",
   "mimetype": "text/x-python",
   "name": "python",
   "nbconvert_exporter": "python",
   "pygments_lexer": "ipython3",
   "version": "3.11.3"
  },
  "orig_nbformat": 4
 },
 "nbformat": 4,
 "nbformat_minor": 2
}
