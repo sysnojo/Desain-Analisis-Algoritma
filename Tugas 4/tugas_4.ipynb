{
 "cells": [
  {
   "cell_type": "markdown",
   "metadata": {},
   "source": [
    "# <center>**Tugas Latihan 4 DAA**</center>\n",
    "<hr>\n",
    "\n",
    "**Nama**   : John Bryan Khornelius<br>\n",
    "**NIM**    : 2022071034<br>\n",
    "**Kelas**  : Desain Analisis Algoritma - INF A<br>"
   ]
  },
  {
   "cell_type": "code",
   "execution_count": 1,
   "metadata": {},
   "outputs": [],
   "source": [
    "# Swap (Slide 5)\n",
    "# Swap function\n",
    "var1 = 1\n",
    "var2 = 2\n",
    "var1, var2 = var2, var1"
   ]
  },
  {
   "cell_type": "code",
   "execution_count": 2,
   "metadata": {},
   "outputs": [
    {
     "name": "stdout",
     "output_type": "stream",
     "text": [
      "2 1\n"
     ]
    }
   ],
   "source": [
    "# Swap (Slide 5)\n",
    "print(var1, var2)"
   ]
  },
  {
   "cell_type": "code",
   "execution_count": 4,
   "metadata": {},
   "outputs": [
    {
     "name": "stdout",
     "output_type": "stream",
     "text": [
      "Sebelum penukaran : 10, 20, 30\n",
      "Sesudah penukaran : 30, 20, 10\n"
     ]
    }
   ],
   "source": [
    "# Latihan 1 (Slide 6)\n",
    "var1 = 10\n",
    "var2 = 20\n",
    "var3 = 30\n",
    "# Sebelum penukaran\n",
    "print(f\"Sebelum penukaran : {var1}, {var2}, {var3}\")\n",
    "# swap function\n",
    "var1, var2, var3 = var3, var2, var1\n",
    "# Sesudah penukaran (swap)\n",
    "print(f\"Sesudah penukaran : {var1}, {var2}, {var3}\")"
   ]
  },
  {
   "cell_type": "code",
   "execution_count": null,
   "metadata": {},
   "outputs": [],
   "source": [
    "# Bubble Sort (slide 7)\n",
    "list = [25, 21, 22, 24, 23, 27, 26]\n",
    "\n",
    "# modifikasi sesuai angka favorit anda"
   ]
  },
  {
   "cell_type": "code",
   "execution_count": 6,
   "metadata": {},
   "outputs": [
    {
     "name": "stdout",
     "output_type": "stream",
     "text": [
      "0 [25, 21, 22, 24, 23, 27, 26]\n",
      "1 [21, 25, 22, 24, 23, 27, 26]\n",
      "2 [21, 22, 25, 24, 23, 27, 26]\n",
      "3 [21, 22, 24, 25, 23, 27, 26]\n",
      "4 [21, 22, 24, 23, 25, 27, 26]\n",
      "5 [21, 22, 24, 23, 25, 27, 26]\n",
      "6 [21, 22, 24, 23, 25, 26, 27]\n"
     ]
    }
   ],
   "source": [
    "# Bubble Sort (slide 7)\n",
    "list = [25, 21, 22, 24, 23, 27, 26]\n",
    "# proses penukaran bubble sort\n",
    "\n",
    "lastElementIndex = len(list) - 1\n",
    "print(0, list)\n",
    "for idx in range(lastElementIndex):\n",
    "    if list[idx] > list[idx + 1]:\n",
    "        list[idx], list[idx + 1] = list[idx + 1], list[idx]\n",
    "    print(idx + 1, list)"
   ]
  },
  {
   "cell_type": "code",
   "execution_count": 7,
   "metadata": {},
   "outputs": [],
   "source": [
    "# Bubble Sort (Slide 8)\n",
    "\"\"\"\n",
    "- Loop luar: ini juga disebut pass. Misalnya, pass satu adalah iterasi pertama dari loop luar.\n",
    "- Loop dalam: ini adalah saat elemen yang tidak diurutkan yang tersisa dalam daftar diurutkan, hingga nilai tertinggi digelembungkan ke kanan. Lintasan pertama akan memiliki perbandingan N-1, lintasan kedua akan memiliki perbandingan N-2, dan setiap lintasan berikutnya akan mengurangi jumlah perbandingan satu per satu.\n",
    "- Karena dua tingkat perulangan, kompleksitas runtime kasus terburuk adalah O(n2).\n",
    "\"\"\"\n",
    "def BubbleSort(list):\n",
    "    # Exchange the elements to arrange in order\n",
    "    lastElementIndex = len(list) - 1\n",
    "    for passNo in range(lastElementIndex, 0, -1):\n",
    "        for idx in range(passNo):\n",
    "            if list[idx] > list[idx + 1]:\n",
    "                list[idx], list[idx + 1] = list[idx + 1], list[idx]\n",
    "    return list"
   ]
  },
  {
   "cell_type": "code",
   "execution_count": 8,
   "metadata": {},
   "outputs": [
    {
     "data": {
      "text/plain": [
       "[21, 22, 24, 23, 25, 26, 27]"
      ]
     },
     "execution_count": 8,
     "metadata": {},
     "output_type": "execute_result"
    }
   ],
   "source": [
    "# Bubble Sort (Slide 9)\n",
    "list"
   ]
  },
  {
   "cell_type": "code",
   "execution_count": 9,
   "metadata": {},
   "outputs": [
    {
     "data": {
      "text/plain": [
       "[21, 22, 23, 24, 25, 26, 27]"
      ]
     },
     "execution_count": 9,
     "metadata": {},
     "output_type": "execute_result"
    }
   ],
   "source": [
    "# Bubble Sort (Slide 9)\n",
    "BubbleSort(list)"
   ]
  },
  {
   "cell_type": "code",
   "execution_count": 11,
   "metadata": {},
   "outputs": [
    {
     "data": {
      "text/plain": [
       "[10, 20, 30, 40, 60, 90, 100]"
      ]
     },
     "execution_count": 11,
     "metadata": {},
     "output_type": "execute_result"
    }
   ],
   "source": [
    "# Latihan 2 (Slide 10)\n",
    "# inisiasi deret bilangan yang akan diruutkan\n",
    "deret = [100, 20, 60, 90, 40, 30, 10]\n",
    "\n",
    "# fungsi bubble sort\n",
    "def bubble_sort_func(deret_bilangan):\n",
    "    last_element_index = len(deret_bilangan) - 1\n",
    "    for pass_no in range(last_element_index, 0, -1):\n",
    "        for index in range(pass_no):\n",
    "            if deret_bilangan[index] > deret_bilangan[index + 1]:\n",
    "                deret_bilangan[index], deret_bilangan[index + 1] = deret_bilangan[index + 1], deret_bilangan[index]\n",
    "    return deret_bilangan\n",
    "\n",
    "# pemanggilan fungsi bubble sort\n",
    "bubble_sort_func(deret)"
   ]
  },
  {
   "cell_type": "code",
   "execution_count": 12,
   "metadata": {},
   "outputs": [],
   "source": [
    "# Insertion Sort (Slide 11)\n",
    "def InsertionSort(list):\n",
    "    for i in range(1, len(list)):\n",
    "        j = i - 1\n",
    "        next = list[i]\n",
    "        # Compare the current element with the next one\n",
    "        while (list[j] > next) and (j >= 0):\n",
    "            list[j + 1] = list[j]\n",
    "            j = j - 1\n",
    "        list[j + 1] = next\n",
    "    return list"
   ]
  },
  {
   "cell_type": "code",
   "execution_count": 13,
   "metadata": {},
   "outputs": [],
   "source": [
    "# Insertion Sort (Slide 11)\n",
    "# Masukkan angka dengan urutan lainnya\n",
    "list = [35, 31, 32, 34, 33, 37, 36]"
   ]
  },
  {
   "cell_type": "code",
   "execution_count": 14,
   "metadata": {},
   "outputs": [
    {
     "data": {
      "text/plain": [
       "[35, 31, 32, 34, 33, 37, 36]"
      ]
     },
     "execution_count": 14,
     "metadata": {},
     "output_type": "execute_result"
    }
   ],
   "source": [
    "# Insertion Sort (Slide 11)\n",
    "list"
   ]
  },
  {
   "cell_type": "code",
   "execution_count": 15,
   "metadata": {},
   "outputs": [
    {
     "data": {
      "text/plain": [
       "[31, 32, 33, 34, 35, 36, 37]"
      ]
     },
     "execution_count": 15,
     "metadata": {},
     "output_type": "execute_result"
    }
   ],
   "source": [
    "# Insertion Sort (Slide 11)\n",
    "InsertionSort(list)"
   ]
  },
  {
   "cell_type": "code",
   "execution_count": 16,
   "metadata": {},
   "outputs": [
    {
     "data": {
      "text/plain": [
       "[11, 12, 16, 25, 57, 75, 89]"
      ]
     },
     "execution_count": 16,
     "metadata": {},
     "output_type": "execute_result"
    }
   ],
   "source": [
    "# Latihan 3 (Slide 13)\n",
    "# inisiasi bilangan\n",
    "num = [89, 12, 57, 16, 25, 11, 75]\n",
    "\n",
    "# fungsi insertion sort\n",
    "def insertion_sort_func(list_num):\n",
    "    for i in range(1, len(list_num)):\n",
    "        j = i - 1\n",
    "        temp = list_num[i]\n",
    "        # Compare the current element with the next one\n",
    "        while (list_num[j] > temp) and (j >= 0):\n",
    "            list_num[j + 1] = list_num[j]\n",
    "            j = j - 1\n",
    "        list_num[j + 1] = temp\n",
    "    return list_num\n",
    "\n",
    "# pemanggilan fungsi insertion sort\n",
    "insertion_sort_func(num)"
   ]
  },
  {
   "cell_type": "code",
   "execution_count": 17,
   "metadata": {},
   "outputs": [],
   "source": [
    "# Selection Sort (Slide 15)\n",
    "def SelectionSort(list):\n",
    "    for fill_slot in range(len(list) - 1, 0, -1):\n",
    "        max_index = 0\n",
    "        for location in range(1, fill_slot + 1):\n",
    "            if list[location] > list[max_index]:\n",
    "                max_index = location\n",
    "        list[fill_slot], list[max_index] = list[max_index], list[fill_slot]\n",
    "    return list"
   ]
  },
  {
   "cell_type": "code",
   "execution_count": 18,
   "metadata": {},
   "outputs": [
    {
     "data": {
      "text/plain": [
       "[15, 19, 25, 34, 44, 70]"
      ]
     },
     "execution_count": 18,
     "metadata": {},
     "output_type": "execute_result"
    }
   ],
   "source": [
    "# Selection Sort (Slide 15)\n",
    "list = [70, 15, 25, 19, 34, 44]\n",
    "SelectionSort(list)"
   ]
  },
  {
   "cell_type": "code",
   "execution_count": 21,
   "metadata": {},
   "outputs": [
    {
     "name": "stdout",
     "output_type": "stream",
     "text": [
      "[89, 12, 57, 16, 25]\n"
     ]
    },
    {
     "data": {
      "text/plain": [
       "[12, 16, 25, 57, 89]"
      ]
     },
     "execution_count": 21,
     "metadata": {},
     "output_type": "execute_result"
    }
   ],
   "source": [
    "# Latihan 4 (Slide 17)\n",
    "list = [89, 12, 57, 16, 25]\n",
    "\n",
    "def selection_sort(list):\n",
    "    for fill_slot in range(len(list) - 1, 0, -1):\n",
    "        max_index = 0\n",
    "        for location in range(1, fill_slot + 1):\n",
    "            if list[location] > list[max_index]:\n",
    "                max_index = location\n",
    "        list[fill_slot], list[max_index] = list[max_index], list[fill_slot]\n",
    "    return list\n",
    "\n",
    "print(list)\n",
    "selection_sort(list)"
   ]
  },
  {
   "cell_type": "code",
   "execution_count": 22,
   "metadata": {},
   "outputs": [
    {
     "name": "stdout",
     "output_type": "stream",
     "text": [
      "True\n",
      "False\n"
     ]
    }
   ],
   "source": [
    "# Linear Search (Slide 20)\n",
    "def LinearSearch(list, item):\n",
    "    index = 0\n",
    "    found = False\n",
    "    # Match the value with each data element\n",
    "    while index < len(list) and found is False:\n",
    "        if list[index] == item:\n",
    "            found = True\n",
    "        else:\n",
    "            index = index + 1\n",
    "    return found\n",
    "\n",
    "list = [12, 33, 11, 99, 22, 55, 90]\n",
    "print(LinearSearch(list, 12))\n",
    "print(LinearSearch(list, 91))"
   ]
  },
  {
   "cell_type": "code",
   "execution_count": 23,
   "metadata": {},
   "outputs": [
    {
     "name": "stdout",
     "output_type": "stream",
     "text": [
      "True\n"
     ]
    }
   ],
   "source": [
    "# Latihan 5 (Slide 21)\n",
    "huruf = ['y', 'u', 'i', 'w', 'o', 'a', 'q', 'u', 'j', 'p']\n",
    "\n",
    "def linear_search(list, item):\n",
    "    index = 0\n",
    "    found = False\n",
    "    while index < len(list) and found is False:\n",
    "        if list[index] == item:\n",
    "            found = True\n",
    "        else:\n",
    "            index = index + 1\n",
    "    return found\n",
    "\n",
    "print(linear_search(huruf, 'a'))"
   ]
  },
  {
   "cell_type": "code",
   "execution_count": 24,
   "metadata": {},
   "outputs": [
    {
     "name": "stdout",
     "output_type": "stream",
     "text": [
      "True\n",
      "False\n"
     ]
    }
   ],
   "source": [
    "# Binary Search (Slide 23)\n",
    "def BinarySearch(list, item):\n",
    "    first = 0\n",
    "    last = len(list) - 1\n",
    "    found = False\n",
    "\n",
    "    while first <= last and not found:\n",
    "        midpoint = (first + last) // 2\n",
    "        if list[midpoint] == item:\n",
    "            found = True\n",
    "        else:\n",
    "            if item < list[midpoint]:\n",
    "                last = midpoint - 1\n",
    "            else:\n",
    "                first = midpoint + 1\n",
    "    return found\n",
    "\n",
    "list = [12, 33, 11, 99, 22, 55, 90]\n",
    "print(BinarySearch(list, 12))\n",
    "print(BinarySearch(list, 91))"
   ]
  },
  {
   "cell_type": "code",
   "execution_count": 29,
   "metadata": {},
   "outputs": [
    {
     "name": "stdout",
     "output_type": "stream",
     "text": [
      "True\n"
     ]
    }
   ],
   "source": [
    "# Latihan 6 (Slide 24)\n",
    "huruf = ['y', 'u', 'i', 'w', 'o', 'a', 'q', 'u', 'j', 'p']\n",
    "\n",
    "def binary_search(list, item):\n",
    "    first = 0\n",
    "    last = len(list) - 1\n",
    "    found = False\n",
    "\n",
    "    while first <= last and not found:\n",
    "        midpoint = (first + last) // 2\n",
    "        if list[midpoint] == item:\n",
    "            found = True\n",
    "        else:\n",
    "            if item < list[midpoint]:\n",
    "                last = midpoint - 1\n",
    "            else:\n",
    "                first = midpoint + 1\n",
    "    return found\n",
    "\n",
    "bubble_sort_func(huruf) # syarat binary search harus diurutkan\n",
    "print(binary_search(huruf, 'a'))"
   ]
  },
  {
   "cell_type": "code",
   "execution_count": 31,
   "metadata": {},
   "outputs": [
    {
     "name": "stdout",
     "output_type": "stream",
     "text": [
      "True\n",
      "False\n"
     ]
    }
   ],
   "source": [
    "# Interpolation Search (Slide 25)\n",
    "def IntPolSearch(list, x):\n",
    "    idx0 = 0\n",
    "    idxn = (len(list) - 1)\n",
    "    found = False\n",
    "    while idx0 <= idxn and x >= list[idx0] and x <= list[idxn]:\n",
    "        mid = idx0 + int(((float(idxn - idx0)/(list[idxn] - list[idx0])) * (x - list[idx0])))\n",
    "\n",
    "        if list[mid] == x:\n",
    "            found = True\n",
    "            return found\n",
    "        \n",
    "        if list[mid] < x:\n",
    "            idx0 = mid + 1\n",
    "    return found\n",
    "\n",
    "list = [12, 33, 11, 99, 22, 55, 90]\n",
    "print(IntPolSearch(list, 12))\n",
    "print(IntPolSearch(list, 91))"
   ]
  },
  {
   "cell_type": "code",
   "execution_count": 40,
   "metadata": {},
   "outputs": [
    {
     "name": "stdout",
     "output_type": "stream",
     "text": [
      "True\n"
     ]
    }
   ],
   "source": [
    "# Latihan 6 (Slide 24)\n",
    "huruf = ['y', 'u', 'i', 'w', 'o', 'a', 'q', 'u', 'j', 'p']\n",
    "huruf = [ord(char) for char in huruf]\n",
    "\n",
    "bubble_sort_func(huruf)\n",
    "\n",
    "def ascii_to_char(value):\n",
    "    return chr(value)\n",
    "\n",
    "def IntPolSearch(lst, x):\n",
    "    x = ord(x) \n",
    "    idx0 = 0\n",
    "    idxn = len(lst) - 1\n",
    "    found = False\n",
    "    while idx0 <= idxn and x >= lst[idx0] and x <= lst[idxn]:\n",
    "        mid = idx0 + int(((idxn - idx0) / (lst[idxn] - lst[idx0])) * (x - lst[idx0]))\n",
    "\n",
    "        if lst[mid] == x:\n",
    "            found = True\n",
    "            return found\n",
    "        \n",
    "        if lst[mid] < x:\n",
    "            idx0 = mid + 1\n",
    "        else:\n",
    "            idxn = mid - 1\n",
    "    return found\n",
    "\n",
    "search_char = 'u'\n",
    "result = IntPolSearch(huruf, search_char)\n",
    "if result:\n",
    "    print(True)\n",
    "else:\n",
    "    print(False)\n"
   ]
  }
 ],
 "metadata": {
  "kernelspec": {
   "display_name": "Python 3",
   "language": "python",
   "name": "python3"
  },
  "language_info": {
   "codemirror_mode": {
    "name": "ipython",
    "version": 3
   },
   "file_extension": ".py",
   "mimetype": "text/x-python",
   "name": "python",
   "nbconvert_exporter": "python",
   "pygments_lexer": "ipython3",
   "version": "3.11.3"
  },
  "orig_nbformat": 4
 },
 "nbformat": 4,
 "nbformat_minor": 2
}
