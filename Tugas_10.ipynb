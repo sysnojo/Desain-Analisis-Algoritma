{
  "nbformat": 4,
  "nbformat_minor": 0,
  "metadata": {
    "colab": {
      "provenance": [],
      "authorship_tag": "ABX9TyMebiUuOKG/p60zve5guBzQ",
      "include_colab_link": true
    },
    "kernelspec": {
      "name": "python3",
      "display_name": "Python 3"
    },
    "language_info": {
      "name": "python"
    }
  },
  "cells": [
    {
      "cell_type": "markdown",
      "metadata": {
        "id": "view-in-github",
        "colab_type": "text"
      },
      "source": [
        "<a href=\"https://colab.research.google.com/github/sysnojo/Desain-Analisis-Algoritma/blob/main/Tugas_10.ipynb\" target=\"_parent\"><img src=\"https://colab.research.google.com/assets/colab-badge.svg\" alt=\"Open In Colab\"/></a>"
      ]
    },
    {
      "cell_type": "markdown",
      "source": [],
      "metadata": {
        "id": "3zNo8LzurE4P"
      }
    },
    {
      "cell_type": "markdown",
      "source": [],
      "metadata": {
        "id": "szMsPGhlrHoC"
      }
    },
    {
      "cell_type": "markdown",
      "source": [
        "Keuntungan maksimum = 4300A + 2800B\n",
        "\n",
        "3A + 2B <= 20 <br>\n",
        "4A + 3B <= 30 <br>\n",
        "4A + 3B <= 44 <br>\n",
        "\n",
        "3A + 2B <= 20 | x 3\n",
        "4A + 3B <= 44 | x 2\n",
        "\n",
        "9A + 6B <= 60\n",
        "8A + 6B <= 88\n",
        "A = -28\n",
        "\n",
        "# mencari B\n",
        "4A + 3B <=30 | x3 <br>\n",
        "3A + 2B <=20 | x4 <br>\n",
        "\n",
        "12A + 9B <= 90 <br>\n",
        "12A + 8B <= 80 <br>\n",
        "------------- <br>\n",
        "       B <= 10 <br>\n",
        "\n",
        "# mencari A\n",
        "4A + 3(10) <= 30 <br>\n",
        "4A + 30 <= 30 <br>\n",
        "4A <= 0 <br>\n",
        "A <= 0 <br>"
      ],
      "metadata": {
        "id": "2dN28wAErIrz"
      }
    },
    {
      "cell_type": "code",
      "source": [
        "pip install pulp"
      ],
      "metadata": {
        "colab": {
          "base_uri": "https://localhost:8080/"
        },
        "id": "ZERG0LFGrFKM",
        "outputId": "adc04278-5afa-4404-db6c-460df0d129e3"
      },
      "execution_count": 1,
      "outputs": [
        {
          "output_type": "stream",
          "name": "stdout",
          "text": [
            "Collecting pulp\n",
            "  Downloading PuLP-2.7.0-py3-none-any.whl (14.3 MB)\n",
            "\u001b[2K     \u001b[90m━━━━━━━━━━━━━━━━━━━━━━━━━━━━━━━━━━━━━━━━\u001b[0m \u001b[32m14.3/14.3 MB\u001b[0m \u001b[31m83.8 MB/s\u001b[0m eta \u001b[36m0:00:00\u001b[0m\n",
            "\u001b[?25hInstalling collected packages: pulp\n",
            "Successfully installed pulp-2.7.0\n"
          ]
        }
      ]
    },
    {
      "cell_type": "code",
      "source": [
        "import pulp"
      ],
      "metadata": {
        "id": "PZQbARd6rVmu"
      },
      "execution_count": 2,
      "outputs": []
    },
    {
      "cell_type": "code",
      "source": [
        "# Instantiate our class\n",
        "model = pulp.LpProblem(\"ProfitMaxmissingProblem\", pulp.LpMaximize)"
      ],
      "metadata": {
        "id": "VzHcgpdLrYQN"
      },
      "execution_count": 3,
      "outputs": []
    },
    {
      "cell_type": "code",
      "source": [
        "A = pulp.LpVariable('A',  lowBound=0, cat=\"Integer\")\n",
        "B = pulp.LpVariable('B',  lowBound=0, cat=\"Integer\")"
      ],
      "metadata": {
        "id": "NHquUMvTrgzQ"
      },
      "execution_count": 5,
      "outputs": []
    },
    {
      "cell_type": "code",
      "source": [
        "# Objective function\n",
        "model += 4200 * A + 2800 * B, \"Profit\"\n",
        "# Constraints\n",
        "model += 3 * A + 2 * B <= 20\n",
        "model += 4 * A + 3 * B <= 30\n",
        "model += 4 * A + 3 * B <= 44"
      ],
      "metadata": {
        "id": "ugCtxf9hrvoq"
      },
      "execution_count": 6,
      "outputs": []
    },
    {
      "cell_type": "code",
      "source": [
        "# Solve our problem\n",
        "model.solve()\n",
        "pulp.LpStatus[model.status]"
      ],
      "metadata": {
        "colab": {
          "base_uri": "https://localhost:8080/",
          "height": 35
        },
        "id": "mRNNw4UcsG2F",
        "outputId": "41fff4af-1c3b-4196-89e7-5e1b54bd5b4b"
      },
      "execution_count": 7,
      "outputs": [
        {
          "output_type": "execute_result",
          "data": {
            "text/plain": [
              "'Optimal'"
            ],
            "application/vnd.google.colaboratory.intrinsic+json": {
              "type": "string"
            }
          },
          "metadata": {},
          "execution_count": 7
        }
      ]
    },
    {
      "cell_type": "code",
      "source": [
        "# Print our decision variabel values\n",
        "print(A.varValue)\n",
        "print(B.varValue)"
      ],
      "metadata": {
        "colab": {
          "base_uri": "https://localhost:8080/"
        },
        "id": "J9XGyQ9ysM4z",
        "outputId": "8251dc90-1428-4a72-c407-5eb2474eba19"
      },
      "execution_count": 8,
      "outputs": [
        {
          "output_type": "stream",
          "name": "stdout",
          "text": [
            "6.0\n",
            "1.0\n"
          ]
        }
      ]
    },
    {
      "cell_type": "code",
      "source": [
        "# Print our objective function value\n",
        "print(pulp.value(model.objective))"
      ],
      "metadata": {
        "colab": {
          "base_uri": "https://localhost:8080/"
        },
        "id": "nXaTVgJssTQb",
        "outputId": "3a5fa29d-04e2-400b-9d5e-25d4810c10db"
      },
      "execution_count": 9,
      "outputs": [
        {
          "output_type": "stream",
          "name": "stdout",
          "text": [
            "28000.0\n"
          ]
        }
      ]
    },
    {
      "cell_type": "code",
      "source": [
        "# LATIHAN\n",
        "\"\"\"\n",
        "Carilah nilai x dan y dari persamaan berikut:\n",
        "1. 4x + 3y = 34\n",
        "2. 5x + y  = 37\n",
        "\"\"\"\n",
        "\n",
        "# 4x + 3y = 34\n",
        "import pulp\n",
        "\n",
        "# Membuat object masalah optimasi\n",
        "model = pulp.LpProblem(name=\"Pemecahan_Persamaan\", sense=pulp.LpMinimize)\n",
        "\n",
        "# Membuat variabel x dan y\n",
        "x = pulp.LpVariable(name=\"x\")\n",
        "y = pulp.LpVariable(name=\"y\")\n",
        "\n",
        "# Menambahkan batasan\n",
        "model += 4 * x + 3 * y == 34\n",
        "\n",
        "# Menyelesaikan masalah\n",
        "model.solve()\n",
        "\n",
        "# Menampilkan hasil\n",
        "print('Status: ', model.status)\n",
        "print('Nilai x = ', x.varValue)\n",
        "print('Nilai y = ', y.varValue)"
      ],
      "metadata": {
        "colab": {
          "base_uri": "https://localhost:8080/"
        },
        "id": "OMsnicFtsaf7",
        "outputId": "a4fc5b04-bbb2-42d7-c1a5-7efd38173c66"
      },
      "execution_count": 13,
      "outputs": [
        {
          "output_type": "stream",
          "name": "stdout",
          "text": [
            "Status:  1\n",
            "Nilai x =  8.5\n",
            "Nilai y =  0.0\n"
          ]
        }
      ]
    },
    {
      "cell_type": "code",
      "source": [
        "# LATIHAN\n",
        "\"\"\"\n",
        "Carilah nilai x dan y dari persamaan berikut:\n",
        "1. 4x + 3y = 34\n",
        "2. 5x + y  = 37\n",
        "\"\"\"\n",
        "\n",
        "import pulp\n",
        "\n",
        "def cari_xy(input_x, input_y, hasil):\n",
        "  # Membuat object masalah optimasi\n",
        "  model = pulp.LpProblem(name=\"Pemecahan_Persamaan\", sense=pulp.LpMinimize)\n",
        "\n",
        "  # Membuat variabel x dan y\n",
        "  x = pulp.LpVariable(name=\"x\")\n",
        "  y = pulp.LpVariable(name=\"y\")\n",
        "\n",
        "  # Menambahkan batasan\n",
        "  model += input_x * x + input_y * y == hasil\n",
        "\n",
        "  # Menyelesaikan masalah\n",
        "  model.solve()\n",
        "\n",
        "  # Menampilkan hasil\n",
        "  print('Status: ', model.status)\n",
        "  print('Nilai x = ', x.varValue)\n",
        "  print('Nilai y = ', y.varValue, '\\n')\n",
        "\n",
        "# Panggil fungsi\n",
        "cari_xy(4, 3, 34)\n",
        "cari_xy(5, 1, 37)"
      ],
      "metadata": {
        "colab": {
          "base_uri": "https://localhost:8080/"
        },
        "id": "4R4bH-a1wyBn",
        "outputId": "ef2416c9-bac6-4644-8e26-c1753553789f"
      },
      "execution_count": 17,
      "outputs": [
        {
          "output_type": "stream",
          "name": "stdout",
          "text": [
            "Status:  1\n",
            "Nilai x =  8.5\n",
            "Nilai y =  0.0 \n",
            "\n",
            "Status:  1\n",
            "Nilai x =  7.4\n",
            "Nilai y =  0.0 \n",
            "\n"
          ]
        }
      ]
    },
    {
      "cell_type": "code",
      "source": [
        "\"\"\"\n",
        "Budi membeli tiga pensil dan empat buku di toko Rana dengan harga Rp 11000,-.\n",
        "Jika Budi membeli lagi sebuah pensil dan tujuh buku ditoko yang sama dengan harga Rp 15000,-.\n",
        "Berapakah harga dua buah pensil dan enam buah buku jika Budi membeli kembali di toko Rana!\n",
        "\"\"\"\n",
        "\n",
        "import pulp\n",
        "\n",
        "model = pulp.LpProblem(name=\"Pemecahan_Persamaan\", sense=pulp.LpMinimize)\n",
        "\n",
        "P = pulp.LpVariable('P', lowBound=0, cat='Integer')\n",
        "B = pulp.LpVariable('B', lowBound=0, cat='Integer')\n",
        "\n",
        "model += 3 * P + 4 * B == 11000\n",
        "model += P + 7 * B == 15000\n",
        "\n",
        "model.solve()\n",
        "\n",
        "pulp.LpStatus[model.status]\n",
        "\n",
        "print(\"Pensil:\", P.varValue)\n",
        "print(\"Buku:\", B.varValue)\n",
        "\n",
        "result = 2 * P.varValue + 6 * B.varValue\n",
        "print(\"Harga 2 pensil =\", 2 * P.varValue)\n",
        "print(\"Harga 6 buku =\", 6 * B.varValue)\n",
        "print(\"Harga 2 pensil dan 6 buku = \", result)"
      ],
      "metadata": {
        "colab": {
          "base_uri": "https://localhost:8080/"
        },
        "id": "vMqZEZUFxmJE",
        "outputId": "df60b194-c649-4bf6-d489-26a5fd01be42"
      },
      "execution_count": 38,
      "outputs": [
        {
          "output_type": "stream",
          "name": "stdout",
          "text": [
            "Pensil: 1000.0\n",
            "Buku: 2000.0\n",
            "Harga 2 pensil = 2000.0\n",
            "Harga 6 buku = 12000.0\n",
            "Harga 2 pensil dan 6 buku =  14000.0\n"
          ]
        }
      ]
    },
    {
      "cell_type": "code",
      "source": [
        "\"\"\"\n",
        "Keliling sebuah persegi panjang sama dengan 44 cm.\n",
        "Jika lebarnya 6 cm lebih pendek dari panjangnya, carilah panjang dan lebar dari persegi panjang tersebut.\n",
        "\"\"\"\n",
        "\n",
        "import pulp\n",
        "\n",
        "model = pulp.LpProblem(name='Panjang_Lebar_Persegi_Panjang', sense=pulp.LpMaximize)\n",
        "\n",
        "P = pulp.LpVariable('P', lowBound=0, cat='Integer')\n",
        "L = pulp.LpVariable('L', lowBound=0, cat='Integer')\n",
        "\n",
        "model += 2 * P + 2 * L == 44\n",
        "model += L == P - 6\n",
        "\n",
        "model.solve()\n",
        "pulp.LpStatus[model.status]\n",
        "\n",
        "print(\"Panjang:\", P.varValue)\n",
        "print(\"Lebar:\", L.varValue)"
      ],
      "metadata": {
        "colab": {
          "base_uri": "https://localhost:8080/"
        },
        "id": "9AHxcZwt7Xek",
        "outputId": "d5b45962-0d0d-46c0-b1bf-ec99239fe003"
      },
      "execution_count": 47,
      "outputs": [
        {
          "output_type": "stream",
          "name": "stdout",
          "text": [
            "Panjang: 14.0\n",
            "Lebar: 8.0\n"
          ]
        }
      ]
    },
    {
      "cell_type": "code",
      "source": [
        "# Import required libraries\n",
        "import numpy as np\n",
        "from scipy.optimize import linprog"
      ],
      "metadata": {
        "id": "v0CsGzHV-BjZ"
      },
      "execution_count": 48,
      "outputs": []
    },
    {
      "cell_type": "code",
      "source": [
        "# Set the inequality constraints matrix\n",
        "# Note: the inequality constraints must be in the form of <=\n",
        "A = np.array([[1, 0], [2, 3], [1, 1], [-1, 0], [0, -1]])"
      ],
      "metadata": {
        "id": "ESXmlVCj-KnS"
      },
      "execution_count": 49,
      "outputs": []
    },
    {
      "cell_type": "code",
      "source": [
        "# Set the inequality oonstraints vector\n",
        "b = np.array([16, 19, 8, 0, 0])"
      ],
      "metadata": {
        "id": "sWmZbLxB-huf"
      },
      "execution_count": 50,
      "outputs": []
    },
    {
      "cell_type": "code",
      "source": [
        "# Set the coefficiency of the linear objective function vector\n",
        "# Note: when maximizing, change the signs of the c vector coefficient\n",
        "c = np.array([-5, -7])"
      ],
      "metadata": {
        "id": "Jq48847S-ptN"
      },
      "execution_count": 51,
      "outputs": []
    },
    {
      "cell_type": "code",
      "source": [
        "# Solve linear programming problem\n",
        "res = linprog(c, A_ub=A, b_ub=b)"
      ],
      "metadata": {
        "id": "aUMnQHr1-2e6"
      },
      "execution_count": 52,
      "outputs": []
    },
    {
      "cell_type": "code",
      "source": [
        "# Print results\n",
        "print('Optimal value:', round(res.fun*-1, ndigits=2),\n",
        "      '\\nx values:', res.x,\n",
        "      '\\nNumber of iterations performed:', res.nit,\n",
        "      '\\nStatus:', res.message)"
      ],
      "metadata": {
        "colab": {
          "base_uri": "https://localhost:8080/"
        },
        "id": "UYh1QXgt--Gw",
        "outputId": "5c446d9e-1055-48d3-80a3-d9fbd87e35b2"
      },
      "execution_count": 53,
      "outputs": [
        {
          "output_type": "stream",
          "name": "stdout",
          "text": [
            "Optimal value: 46.0 \n",
            "x values: [5. 3.] \n",
            "Number of iterations performed: 3 \n",
            "Status: Optimization terminated successfully. (HiGHS Status 7: Optimal)\n"
          ]
        }
      ]
    },
    {
      "cell_type": "code",
      "source": [
        "from scipy.optimize import linprog\n",
        "\n",
        "c = [-5, -7]\n",
        "\n",
        "A = [\n",
        "    [1, 0],\n",
        "    [2, 3],\n",
        "    [1, 1]\n",
        "]\n",
        "\n",
        "b = [16, 19, 8]\n",
        "\n",
        "x1_bounds = (0, None)\n",
        "x2_bounds = (0, None)\n",
        "\n",
        "result = linprog(c, A_ub=A, b_ub=b, bounds=[x1_bounds, x2_bounds], method=\"highs\")\n",
        "\n",
        "print(\"Optimal Solution\")\n",
        "print(\"x1\", result.x[0])\n",
        "print(\"x2\", result.x[1])\n",
        "print(\"Max Z =\", -result.fun)\n"
      ],
      "metadata": {
        "colab": {
          "base_uri": "https://localhost:8080/"
        },
        "id": "J2gPlNY8_PNS",
        "outputId": "9844d0f2-fb6f-42b9-87fc-0a98cd41b056"
      },
      "execution_count": 55,
      "outputs": [
        {
          "output_type": "stream",
          "name": "stdout",
          "text": [
            "Optimal Solution\n",
            "x1 5.0\n",
            "x2 3.0\n",
            "Max Z = 46.0\n"
          ]
        }
      ]
    },
    {
      "cell_type": "code",
      "source": [
        "# nomor 1 sama 2\n",
        "from scipy.optimize import linprog\n",
        "\n",
        "c = [0, 0]  # Objektif nol karena kita hanya ingin menemukan solusi sistem persamaan\n",
        "\n",
        "A = [\n",
        "    [4, 12],\n",
        "    [2, 1]\n",
        "]\n",
        "b = [28, 21]  # Vektor hasil\n",
        "\n",
        "x_bounds = (0, None)\n",
        "y_bounds = (0, None)\n",
        "\n",
        "result = linprog(c, A_ub=A, b_ub=b, bounds=[x_bounds, y_bounds], method=\"simplex\")\n",
        "\n",
        "print(\"Optimal solution: \")\n",
        "print(\"x =\", result.x[0])\n",
        "print(\"y =\", result.x[1])"
      ],
      "metadata": {
        "colab": {
          "base_uri": "https://localhost:8080/"
        },
        "id": "4FZlE61O_8Y0",
        "outputId": "ad2d5798-ba24-4eb0-f0e8-13f034db7c0a"
      },
      "execution_count": 56,
      "outputs": [
        {
          "output_type": "stream",
          "name": "stdout",
          "text": [
            "Optimal solution: \n",
            "x = 7.000000000000001\n",
            "y = 0.0\n"
          ]
        },
        {
          "output_type": "stream",
          "name": "stderr",
          "text": [
            "<ipython-input-56-05abf8a30e03>:14: DeprecationWarning: `method='simplex'` is deprecated and will be removed in SciPy 1.11.0. Please use one of the HiGHS solvers (e.g. `method='highs'`) in new code.\n",
            "  result = linprog(c, A_ub=A, b_ub=b, bounds=[x_bounds, y_bounds], method=\"simplex\")\n"
          ]
        }
      ]
    },
    {
      "cell_type": "code",
      "source": [
        "# Latihan dengan SciPy\n",
        "from scipy.optimize import linprog\n",
        "\n",
        "# Objektif nol karena kita hanya ingin menemukan solusi sistem persamaan\n",
        "c = [0, 0]\n",
        "\n",
        "# Matriks koefisien\n",
        "A_eq = [[1, 1], [3, 4]]  # Matriks koefisien persamaan\n",
        "b_eq = [16, 55]          # Vektor hasil\n",
        "\n",
        "x_bounds = (0, None)  # Batasan x (jam kerja Lisa)\n",
        "y_bounds = (0, None)  # Batasan y (jam kerja Muri)\n",
        "\n",
        "result = linprog(c, A_eq=A_eq, b_eq=b_eq, bounds=[x_bounds, y_bounds], method=\"highs\")\n",
        "\n",
        "print(\"Optimal solution: \")\n",
        "print(\"Jam kerja Lisa (L) =\", result.x[0])\n",
        "print(\"Jam kerja Muri (M) =\", result.x[1])"
      ],
      "metadata": {
        "colab": {
          "base_uri": "https://localhost:8080/"
        },
        "id": "t3XEVCIXDVbF",
        "outputId": "a32765d7-c41b-4cee-dbdd-5c683c3f89df"
      },
      "execution_count": 57,
      "outputs": [
        {
          "output_type": "stream",
          "name": "stdout",
          "text": [
            "Optimal solution: \n",
            "Jam kerja Lisa (L) = 9.0\n",
            "Jam kerja Muri (M) = 7.0\n"
          ]
        }
      ]
    }
  ]
}