{
 "cells": [
  {
   "cell_type": "code",
   "execution_count": 1,
   "metadata": {},
   "outputs": [],
   "source": [
    "def bfs(graph, start):\n",
    "    visited=[]\n",
    "    queue=[]\n",
    "    queue=[start]\n",
    "    while queue:\n",
    "        node = queue.pop(0)\n",
    "        if node not in visited:\n",
    "            visited.append(node)\n",
    "            neighbours = graph[node]\n",
    "            for neighbour in neighbours:\n",
    "                queue.append(neighbour)\n",
    "    return visited"
   ]
  },
  {
   "cell_type": "code",
   "execution_count": 2,
   "metadata": {},
   "outputs": [],
   "source": [
    "graph = {'Amin': ['Wasim', 'Nick', 'Mike'],\n",
    "         'Wasim': ['Imran', 'Amin'],\n",
    "         'Imran': ['Wasim', 'Faras'],\n",
    "         'Faras': ['Imran'],\n",
    "         'Mike': ['Amin'],\n",
    "         'Nick': ['Amin']\n",
    "         }"
   ]
  },
  {
   "cell_type": "code",
   "execution_count": 3,
   "metadata": {},
   "outputs": [
    {
     "data": {
      "text/plain": [
       "['Amin', 'Wasim', 'Nick', 'Mike', 'Imran', 'Faras']"
      ]
     },
     "execution_count": 3,
     "metadata": {},
     "output_type": "execute_result"
    }
   ],
   "source": [
    "bfs(graph, 'Amin')"
   ]
  },
  {
   "cell_type": "code",
   "execution_count": 4,
   "metadata": {},
   "outputs": [
    {
     "data": {
      "text/plain": [
       "['Wasim', 'Imran', 'Amin', 'Faras', 'Nick', 'Mike']"
      ]
     },
     "execution_count": 4,
     "metadata": {},
     "output_type": "execute_result"
    }
   ],
   "source": [
    "bfs(graph, 'Wasim')"
   ]
  },
  {
   "cell_type": "code",
   "execution_count": 5,
   "metadata": {},
   "outputs": [
    {
     "data": {
      "text/plain": [
       "['Faras', 'Imran', 'Wasim', 'Amin', 'Nick', 'Mike']"
      ]
     },
     "execution_count": 5,
     "metadata": {},
     "output_type": "execute_result"
    }
   ],
   "source": [
    "bfs(graph, 'Faras')"
   ]
  },
  {
   "cell_type": "code",
   "execution_count": 6,
   "metadata": {},
   "outputs": [
    {
     "data": {
      "text/plain": [
       "['Mike', 'Amin', 'Wasim', 'Nick', 'Imran', 'Faras']"
      ]
     },
     "execution_count": 6,
     "metadata": {},
     "output_type": "execute_result"
    }
   ],
   "source": [
    "bfs(graph, 'Mike')"
   ]
  },
  {
   "cell_type": "code",
   "execution_count": 31,
   "metadata": {},
   "outputs": [
    {
     "data": {
      "text/plain": [
       "['Kaprodi 3',\n",
       " 'Warek 2',\n",
       " 'Dosen F',\n",
       " 'Dosen G',\n",
       " 'Kaprodi 1',\n",
       " 'Kaprodi 2',\n",
       " 'Dosen A',\n",
       " 'Dosen B',\n",
       " 'Dosen C',\n",
       " 'Dosen D',\n",
       " 'Dosen E']"
      ]
     },
     "execution_count": 31,
     "metadata": {},
     "output_type": "execute_result"
    }
   ],
   "source": [
    "# Latihan\n",
    "graph = {'Rektor': ['Warek 1','Warek 2'],\n",
    "         'Warek 1': ['Rektor'],\n",
    "         'Warek 2': ['Kaprodi 1', 'Kaprodi 2', 'Kaprodi 3'],\n",
    "         'Kaprodi 1': ['Warek 2', 'Dosen A', 'Dosen B', 'Dosen C'],\n",
    "         'Dosen A': ['Kaprodi 1'],\n",
    "         'Dosen B': ['Kaprodi 1'],\n",
    "         'Dosen C': ['Kaprodi 1'],\n",
    "         'Kaprodi 2': ['Warek 2', 'Dosen D', 'Dosen E'],\n",
    "         'Dosen D': ['Kaprodi 2'],\n",
    "         'Dosen E': ['Kaprodi 2'],\n",
    "         'Kaprodi 3': ['Warek 2', 'Dosen F', 'Dosen G'],\n",
    "         'Dosen F': ['Kaprodi 3'],\n",
    "         'Dosen G': ['Kaprodi 3'],\n",
    "         }\n",
    "\n",
    "bfs(graph, 'Kaprodi 3')"
   ]
  },
  {
   "cell_type": "code",
   "execution_count": 43,
   "metadata": {},
   "outputs": [
    {
     "data": {
      "text/plain": [
       "['1', '10', '8', '9', '12', '0', '2', '7', '11', '3', '6', '4', '5']"
      ]
     },
     "execution_count": 43,
     "metadata": {},
     "output_type": "execute_result"
    }
   ],
   "source": [
    "graph = {'0': ['9','7', '11'],\n",
    "         '9': ['10', '8', '0'],\n",
    "         '7': ['0', '11', '6', '3'],\n",
    "         '11': ['7', '0'],\n",
    "         '10': ['1', '9'],\n",
    "         '8': ['9', '1', '12'],\n",
    "         '1': ['10', '8'],\n",
    "         '12': ['8', '2'],\n",
    "         '2': ['12', '3'],\n",
    "         '3': ['4', '2', '7'],\n",
    "         '4': ['3'],\n",
    "         '6': ['7', '5'],\n",
    "         '5': ['6']\n",
    "         }\n",
    "\n",
    "bfs(graph, '1')"
   ]
  },
  {
   "cell_type": "code",
   "execution_count": 46,
   "metadata": {},
   "outputs": [],
   "source": [
    "def dfs(visited, graph, node):\n",
    "    if node not in visited:\n",
    "        print(node)\n",
    "        visited.add(node)\n",
    "        for neighbour in graph[node]:\n",
    "            dfs(visited, graph, neighbour)"
   ]
  },
  {
   "cell_type": "code",
   "execution_count": 47,
   "metadata": {},
   "outputs": [],
   "source": [
    "graph = {'Amin': ['Wasim', 'Nick', 'Mike'],\n",
    "         'Wasim': ['Imran', 'Amin'],\n",
    "         'Imran': ['Wasim', 'Faras'],\n",
    "         'Faras': ['Imran'],\n",
    "         'Mike': ['Amin'],\n",
    "         'Nick': ['Amin']\n",
    "         }"
   ]
  },
  {
   "cell_type": "code",
   "execution_count": 48,
   "metadata": {},
   "outputs": [
    {
     "name": "stdout",
     "output_type": "stream",
     "text": [
      "Amin\n",
      "Wasim\n",
      "Imran\n",
      "Faras\n",
      "Nick\n",
      "Mike\n"
     ]
    }
   ],
   "source": [
    "# O Amin ----------------------\n",
    "# |               |           |\n",
    "# O Wasim       O Nick      O Mike\n",
    "# |\n",
    "# O Imran\n",
    "# |\n",
    "# O Faras\n",
    "visited = set()\n",
    "dfs(visited, graph, 'Amin')"
   ]
  },
  {
   "cell_type": "code",
   "execution_count": 49,
   "metadata": {},
   "outputs": [
    {
     "name": "stdout",
     "output_type": "stream",
     "text": [
      "Wasim\n",
      "Imran\n",
      "Faras\n",
      "Amin\n",
      "Nick\n",
      "Mike\n"
     ]
    }
   ],
   "source": [
    "# O Amin ----------------------\n",
    "# |               |           |\n",
    "# O Wasim       O Nick      O Mike\n",
    "# |\n",
    "# O Imran\n",
    "# |\n",
    "# O Faras\n",
    "visited = set()\n",
    "dfs(visited, graph, 'Wasim')"
   ]
  },
  {
   "cell_type": "code",
   "execution_count": 50,
   "metadata": {},
   "outputs": [
    {
     "name": "stdout",
     "output_type": "stream",
     "text": [
      "Faras\n",
      "Imran\n",
      "Wasim\n",
      "Amin\n",
      "Nick\n",
      "Mike\n"
     ]
    }
   ],
   "source": [
    "# O Amin ----------------------\n",
    "# |               |           |\n",
    "# O Wasim       O Nick      O Mike\n",
    "# |\n",
    "# O Imran\n",
    "# |\n",
    "# O Faras\n",
    "visited = set()\n",
    "dfs(visited, graph, 'Faras')"
   ]
  },
  {
   "cell_type": "code",
   "execution_count": 51,
   "metadata": {},
   "outputs": [
    {
     "name": "stdout",
     "output_type": "stream",
     "text": [
      "Nick\n",
      "Amin\n",
      "Wasim\n",
      "Imran\n",
      "Faras\n",
      "Mike\n"
     ]
    }
   ],
   "source": [
    "# O Amin ----------------------\n",
    "# |               |           |\n",
    "# O Wasim       O Nick      O Mike\n",
    "# |\n",
    "# O Imran\n",
    "# |\n",
    "# O Faras\n",
    "visited = set()\n",
    "dfs(visited, graph, 'Nick')"
   ]
  },
  {
   "cell_type": "code",
   "execution_count": 53,
   "metadata": {},
   "outputs": [
    {
     "name": "stdout",
     "output_type": "stream",
     "text": [
      "Rektor\n",
      "Warek 1\n",
      "Warek 2\n",
      "Kaprodi 1\n",
      "Dosen A\n",
      "Dosen B\n",
      "Dosen C\n",
      "Kaprodi 2\n",
      "Dosen D\n",
      "Dosen E\n",
      "Kaprodi 3\n",
      "Dosen F\n",
      "Dosen G\n"
     ]
    }
   ],
   "source": [
    "# Latihan\n",
    "graph = {'Rektor': ['Warek 1','Warek 2'],\n",
    "         'Warek 1': ['Rektor'],\n",
    "         'Warek 2': ['Kaprodi 1', 'Kaprodi 2', 'Kaprodi 3'],\n",
    "         'Kaprodi 1': ['Warek 2', 'Dosen A', 'Dosen B', 'Dosen C'],\n",
    "         'Kaprodi 2': ['Warek 2', 'Dosen D', 'Dosen E'],\n",
    "         'Kaprodi 3': ['Warek 2', 'Dosen F', 'Dosen G'],\n",
    "         'Dosen A': ['Kaprodi 1'],\n",
    "         'Dosen B': ['Kaprodi 1'],\n",
    "         'Dosen C': ['Kaprodi 1'],\n",
    "         'Dosen D': ['Kaprodi 2'],\n",
    "         'Dosen E': ['Kaprodi 2'],\n",
    "         'Dosen F': ['Kaprodi 3'],\n",
    "         'Dosen G': ['Kaprodi 3'],\n",
    "         }\n",
    "\n",
    "visited = set()\n",
    "dfs(visited, graph, 'Rektor')"
   ]
  }
 ],
 "metadata": {
  "kernelspec": {
   "display_name": "Python 3",
   "language": "python",
   "name": "python3"
  },
  "language_info": {
   "codemirror_mode": {
    "name": "ipython",
    "version": 3
   },
   "file_extension": ".py",
   "mimetype": "text/x-python",
   "name": "python",
   "nbconvert_exporter": "python",
   "pygments_lexer": "ipython3",
   "version": "3.11.3"
  }
 },
 "nbformat": 4,
 "nbformat_minor": 2
}
