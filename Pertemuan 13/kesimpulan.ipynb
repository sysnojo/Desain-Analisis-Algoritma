{
 "cells": [
  {
   "cell_type": "markdown",
   "metadata": {},
   "source": [
    "### Lakukan Analisa trhadap algoritma tersebut BFS dan DFS. Bandingkan hasil dengan 3 data graph (Amin, Rektor, Titik 0) Kesimpulannya apa? submit sekarang di collabor (maks 16.10)"
   ]
  },
  {
   "cell_type": "code",
   "execution_count": 17,
   "metadata": {},
   "outputs": [],
   "source": [
    "# BFS\n",
    "def bfs(graph, start):\n",
    "    visited=[]\n",
    "    queue=[]\n",
    "    queue=[start]\n",
    "    while queue:\n",
    "        node = queue.pop(0)\n",
    "        if node not in visited:\n",
    "            visited.append(node)\n",
    "            neighbours = graph[node]\n",
    "            for neighbour in neighbours:\n",
    "                queue.append(neighbour)\n",
    "    return visited\n",
    "\n",
    "# DFS\n",
    "def dfs(visited, graph, node):\n",
    "    if node not in visited:\n",
    "        print(node)\n",
    "        visited.add(node)\n",
    "        for neighbour in graph[node]:\n",
    "            dfs(visited, graph, neighbour)\n",
    "\n",
    "# graph amin\n",
    "graph_amin = {'Amin': ['Wasim', 'Nick', 'Mike'],\n",
    "         'Wasim': ['Imran', 'Amin'],\n",
    "         'Imran': ['Wasim', 'Faras'],\n",
    "         'Faras': ['Imran'],\n",
    "         'Mike': ['Amin'],\n",
    "         'Nick': ['Amin']\n",
    "         }\n",
    "\n",
    "# graph rektor\n",
    "graph_rekt = {'Rektor': ['Warek 1','Warek 2'],\n",
    "         'Warek 1': ['Rektor'],\n",
    "         'Warek 2': ['Kaprodi 1', 'Kaprodi 2', 'Kaprodi 3'],\n",
    "         'Kaprodi 1': ['Warek 2', 'Dosen A', 'Dosen B', 'Dosen C'],\n",
    "         'Kaprodi 2': ['Warek 2', 'Dosen D', 'Dosen E'],\n",
    "         'Kaprodi 3': ['Warek 2', 'Dosen F', 'Dosen G'],\n",
    "         'Dosen A': ['Kaprodi 1'],\n",
    "         'Dosen B': ['Kaprodi 1'],\n",
    "         'Dosen C': ['Kaprodi 1'],\n",
    "         'Dosen D': ['Kaprodi 2'],\n",
    "         'Dosen E': ['Kaprodi 2'],\n",
    "         'Dosen F': ['Kaprodi 3'],\n",
    "         'Dosen G': ['Kaprodi 3'],\n",
    "         }\n",
    "\n",
    "# graph 0\n",
    "graph_nol = {'0': ['9','7', '11'],\n",
    "         '9': ['10', '8', '0'],\n",
    "         '7': ['0', '11', '6', '3'],\n",
    "         '11': ['7', '0'],\n",
    "         '10': ['1', '9'],\n",
    "         '8': ['9', '1', '12'],\n",
    "         '1': ['10', '8'],\n",
    "         '12': ['8', '2'],\n",
    "         '2': ['12', '3'],\n",
    "         '3': ['4', '2', '7'],\n",
    "         '4': ['3'],\n",
    "         '6': ['7', '5'],\n",
    "         '5': ['6']\n",
    "         }"
   ]
  },
  {
   "cell_type": "code",
   "execution_count": 6,
   "metadata": {},
   "outputs": [
    {
     "data": {
      "text/plain": [
       "['Amin', 'Wasim', 'Nick', 'Mike', 'Imran', 'Faras']"
      ]
     },
     "execution_count": 6,
     "metadata": {},
     "output_type": "execute_result"
    }
   ],
   "source": [
    "# bfs graph amin\n",
    "bfs(graph_amin, 'Amin')"
   ]
  },
  {
   "cell_type": "code",
   "execution_count": 8,
   "metadata": {},
   "outputs": [
    {
     "data": {
      "text/plain": [
       "['Rektor',\n",
       " 'Warek 1',\n",
       " 'Warek 2',\n",
       " 'Kaprodi 1',\n",
       " 'Kaprodi 2',\n",
       " 'Kaprodi 3',\n",
       " 'Dosen A',\n",
       " 'Dosen B',\n",
       " 'Dosen C',\n",
       " 'Dosen D',\n",
       " 'Dosen E',\n",
       " 'Dosen F',\n",
       " 'Dosen G']"
      ]
     },
     "execution_count": 8,
     "metadata": {},
     "output_type": "execute_result"
    }
   ],
   "source": [
    "# bfs graph_rekt\n",
    "bfs(graph_rekt, 'Rektor')"
   ]
  },
  {
   "cell_type": "code",
   "execution_count": 16,
   "metadata": {},
   "outputs": [
    {
     "data": {
      "text/plain": [
       "['0', '9', '7', '11', '10', '8', '6', '3', '1', '12', '5', '4', '2']"
      ]
     },
     "execution_count": 16,
     "metadata": {},
     "output_type": "execute_result"
    }
   ],
   "source": [
    "# bfs graph_nol\n",
    "bfs(graph_nol, '0')"
   ]
  },
  {
   "cell_type": "markdown",
   "metadata": {},
   "source": [
    "# ANALISA BFS\n",
    "Implementasi BFS (Breadth First Search) dalam ketiga data tersebut (Amin, Rektor, 0) bekerja dengan cara melihat node yang bertentanggaan dulu dengan node yang sekarang lalu jika sudah tidak ada lagi tetangga dari node tersebut maka BFS akan lanjut membaca node selanjutnya pada sektor berikutnya"
   ]
  },
  {
   "cell_type": "code",
   "execution_count": 19,
   "metadata": {},
   "outputs": [
    {
     "name": "stdout",
     "output_type": "stream",
     "text": [
      "Amin\n",
      "Wasim\n",
      "Imran\n",
      "Faras\n",
      "Nick\n",
      "Mike\n"
     ]
    }
   ],
   "source": [
    "# dfs pada data graph Amin\n",
    "visited = set()\n",
    "dfs(visited, graph_amin, 'Amin')"
   ]
  },
  {
   "cell_type": "code",
   "execution_count": 20,
   "metadata": {},
   "outputs": [
    {
     "name": "stdout",
     "output_type": "stream",
     "text": [
      "Rektor\n",
      "Warek 1\n",
      "Warek 2\n",
      "Kaprodi 1\n",
      "Dosen A\n",
      "Dosen B\n",
      "Dosen C\n",
      "Kaprodi 2\n",
      "Dosen D\n",
      "Dosen E\n",
      "Kaprodi 3\n",
      "Dosen F\n",
      "Dosen G\n"
     ]
    }
   ],
   "source": [
    "# dfs pada data graph Rektor\n",
    "visited = set()\n",
    "dfs(visited, graph_rekt, 'Rektor')"
   ]
  },
  {
   "cell_type": "code",
   "execution_count": 21,
   "metadata": {},
   "outputs": [
    {
     "name": "stdout",
     "output_type": "stream",
     "text": [
      "0\n",
      "9\n",
      "10\n",
      "1\n",
      "8\n",
      "12\n",
      "2\n",
      "3\n",
      "4\n",
      "7\n",
      "11\n",
      "6\n",
      "5\n"
     ]
    }
   ],
   "source": [
    "# dfs pada data graph Amin\n",
    "visited = set()\n",
    "dfs(visited, graph_nol, '0')"
   ]
  },
  {
   "cell_type": "markdown",
   "metadata": {},
   "source": [
    "# ANALISA DFS\n",
    "Implementasi DFS (Depth First Search) pada ketiga data tersebut (Amin, Rektor, 0) memiliki cara kerja membaca node sampai dalam. Hal ini dimaksudkan DFS akan tersebut membaca node yang ada pada kolom pertama setiap sektor ke bawah sampai selesai dan DFS akan balik lagi ke atas untuk melanjutkan membaca node pada kolom kedua.\n",
    "\n",
    "# KESIMPULAN BFS VS DFS\n",
    "Kesimpulan yang dapat diambil dari analisa kedua algoritma BFS dan DFS adalah bahwa kedua algoritma menghasilkan output yang sama, namun kedua algoritma bekerja secara berbeda. BFS akan mendeteksi node yang berdasarkan kondisi jika ada tetangga lagi yang berseblahan dengan node yang sedang dideteksi, sementara DFS mendeteksi node per kolom dimana jika sektor dalam satu kolom belum habis maka ia akan terus membaca ke dalam sampai node itu selesai.\n",
    "Dari sisi mana lebih cepatnya, menurut saya tidak bisa dikatakan pasti dikarenakan algoritma ini digunakan berdasarkan kasus tertentu."
   ]
  },
  {
   "cell_type": "markdown",
   "metadata": {},
   "source": []
  }
 ],
 "metadata": {
  "kernelspec": {
   "display_name": "Python 3",
   "language": "python",
   "name": "python3"
  },
  "language_info": {
   "codemirror_mode": {
    "name": "ipython",
    "version": 3
   },
   "file_extension": ".py",
   "mimetype": "text/x-python",
   "name": "python",
   "nbconvert_exporter": "python",
   "pygments_lexer": "ipython3",
   "version": "3.11.3"
  }
 },
 "nbformat": 4,
 "nbformat_minor": 2
}
